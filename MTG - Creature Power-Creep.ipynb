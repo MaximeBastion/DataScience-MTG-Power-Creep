{
 "cells": [
  {
   "cell_type": "markdown",
   "metadata": {},
   "source": [
    "# MTG: Creature Power-Creep"
   ]
  },
  {
   "cell_type": "markdown",
   "metadata": {},
   "source": [
    "## Data Cleaning"
   ]
  },
  {
   "cell_type": "markdown",
   "metadata": {},
   "source": [
    "Converting the json file downloaded from scryfall to csv:"
   ]
  },
  {
   "cell_type": "code",
   "execution_count": 48,
   "metadata": {
    "scrolled": true
   },
   "outputs": [],
   "source": [
    "import pandas as pd\n",
    "\n",
    "df = pd.read_json (\"scryfall-default-cards.json\", encoding = \"utf-8\")"
   ]
  },
  {
   "cell_type": "markdown",
   "metadata": {},
   "source": [
    "The character '—' is causing problems, we will replace it:"
   ]
  },
  {
   "cell_type": "code",
   "execution_count": 49,
   "metadata": {},
   "outputs": [],
   "source": [
    "df[\"type_line\"] = df[\"type_line\"].str.replace(' —', ':')"
   ]
  },
  {
   "cell_type": "code",
   "execution_count": 50,
   "metadata": {},
   "outputs": [],
   "source": [
    "#df.to_csv(\"cards.csv\", index = None)"
   ]
  },
  {
   "cell_type": "markdown",
   "metadata": {},
   "source": [
    "Opening and quickly inspecting the csv"
   ]
  },
  {
   "cell_type": "code",
   "execution_count": 51,
   "metadata": {},
   "outputs": [
    {
     "data": {
      "text/html": [
       "<div>\n",
       "<style scoped>\n",
       "    .dataframe tbody tr th:only-of-type {\n",
       "        vertical-align: middle;\n",
       "    }\n",
       "\n",
       "    .dataframe tbody tr th {\n",
       "        vertical-align: top;\n",
       "    }\n",
       "\n",
       "    .dataframe thead th {\n",
       "        text-align: right;\n",
       "    }\n",
       "</style>\n",
       "<table border=\"1\" class=\"dataframe\">\n",
       "  <thead>\n",
       "    <tr style=\"text-align: right;\">\n",
       "      <th></th>\n",
       "      <th>object</th>\n",
       "      <th>id</th>\n",
       "      <th>oracle_id</th>\n",
       "      <th>multiverse_ids</th>\n",
       "      <th>name</th>\n",
       "      <th>printed_name</th>\n",
       "      <th>lang</th>\n",
       "      <th>released_at</th>\n",
       "      <th>uri</th>\n",
       "      <th>scryfall_uri</th>\n",
       "      <th>...</th>\n",
       "      <th>watermark</th>\n",
       "      <th>color_indicator</th>\n",
       "      <th>loyalty</th>\n",
       "      <th>promo_types</th>\n",
       "      <th>mtgo_id</th>\n",
       "      <th>life_modifier</th>\n",
       "      <th>hand_modifier</th>\n",
       "      <th>arena_id</th>\n",
       "      <th>variation_of</th>\n",
       "      <th>mtgo_foil_id</th>\n",
       "    </tr>\n",
       "  </thead>\n",
       "  <tbody>\n",
       "    <tr>\n",
       "      <td>0</td>\n",
       "      <td>card</td>\n",
       "      <td>02efd6cf-1ed0-44b3-b3b9-94a45696e1f3</td>\n",
       "      <td>09aeea91-b1dc-443f-a509-4758f052c0a7</td>\n",
       "      <td>[]</td>\n",
       "      <td>Voltaic Key</td>\n",
       "      <td>通電式キー</td>\n",
       "      <td>ja</td>\n",
       "      <td>2020-03-26</td>\n",
       "      <td>https://api.scryfall.com/cards/02efd6cf-1ed0-4...</td>\n",
       "      <td>https://scryfall.com/card/pmei/35/ja/%E9%80%9A...</td>\n",
       "      <td>...</td>\n",
       "      <td>NaN</td>\n",
       "      <td>NaN</td>\n",
       "      <td>NaN</td>\n",
       "      <td>NaN</td>\n",
       "      <td>NaN</td>\n",
       "      <td>NaN</td>\n",
       "      <td>NaN</td>\n",
       "      <td>NaN</td>\n",
       "      <td>NaN</td>\n",
       "      <td>NaN</td>\n",
       "    </tr>\n",
       "    <tr>\n",
       "      <td>1</td>\n",
       "      <td>card</td>\n",
       "      <td>94355044-e67a-4605-a37b-e879784fc9e5</td>\n",
       "      <td>9d3c7c96-056f-408e-a834-fa45a430d3d4</td>\n",
       "      <td>[]</td>\n",
       "      <td>Daxos, Blessed by the Sun</td>\n",
       "      <td>太陽に祝福されしダクソス</td>\n",
       "      <td>ja</td>\n",
       "      <td>2020-03-01</td>\n",
       "      <td>https://api.scryfall.com/cards/94355044-e67a-4...</td>\n",
       "      <td>https://scryfall.com/card/pmei/36/ja/%E5%A4%AA...</td>\n",
       "      <td>...</td>\n",
       "      <td>NaN</td>\n",
       "      <td>NaN</td>\n",
       "      <td>NaN</td>\n",
       "      <td>NaN</td>\n",
       "      <td>NaN</td>\n",
       "      <td>NaN</td>\n",
       "      <td>NaN</td>\n",
       "      <td>NaN</td>\n",
       "      <td>NaN</td>\n",
       "      <td>NaN</td>\n",
       "    </tr>\n",
       "    <tr>\n",
       "      <td>2</td>\n",
       "      <td>card</td>\n",
       "      <td>e8fb396f-3ae1-4705-bf94-3e1b0556e910</td>\n",
       "      <td>3c304eaa-09e9-4439-b35d-4b05a54c2fa7</td>\n",
       "      <td>[]</td>\n",
       "      <td>Acorn Stash</td>\n",
       "      <td>NaN</td>\n",
       "      <td>en</td>\n",
       "      <td>2020-02-29</td>\n",
       "      <td>https://api.scryfall.com/cards/e8fb396f-3ae1-4...</td>\n",
       "      <td>https://scryfall.com/card/tund/6/acorn-stash?u...</td>\n",
       "      <td>...</td>\n",
       "      <td>NaN</td>\n",
       "      <td>NaN</td>\n",
       "      <td>NaN</td>\n",
       "      <td>NaN</td>\n",
       "      <td>NaN</td>\n",
       "      <td>NaN</td>\n",
       "      <td>NaN</td>\n",
       "      <td>NaN</td>\n",
       "      <td>NaN</td>\n",
       "      <td>NaN</td>\n",
       "    </tr>\n",
       "    <tr>\n",
       "      <td>3</td>\n",
       "      <td>card</td>\n",
       "      <td>628c542b-7579-4070-9143-6f1f7221468f</td>\n",
       "      <td>d82528ac-88f7-4c38-9b1c-c33e6faea532</td>\n",
       "      <td>[]</td>\n",
       "      <td>Giant Teddy Bear</td>\n",
       "      <td>NaN</td>\n",
       "      <td>en</td>\n",
       "      <td>2020-02-29</td>\n",
       "      <td>https://api.scryfall.com/cards/628c542b-7579-4...</td>\n",
       "      <td>https://scryfall.com/card/tund/5/giant-teddy-b...</td>\n",
       "      <td>...</td>\n",
       "      <td>NaN</td>\n",
       "      <td>NaN</td>\n",
       "      <td>NaN</td>\n",
       "      <td>NaN</td>\n",
       "      <td>NaN</td>\n",
       "      <td>NaN</td>\n",
       "      <td>NaN</td>\n",
       "      <td>NaN</td>\n",
       "      <td>NaN</td>\n",
       "      <td>NaN</td>\n",
       "    </tr>\n",
       "    <tr>\n",
       "      <td>4</td>\n",
       "      <td>card</td>\n",
       "      <td>6819b8c9-73a3-4e8e-ad7a-95cffabf873a</td>\n",
       "      <td>eaf318f0-2cad-437c-8162-78462ecbc235</td>\n",
       "      <td>[]</td>\n",
       "      <td>Dragon</td>\n",
       "      <td>NaN</td>\n",
       "      <td>en</td>\n",
       "      <td>2020-02-29</td>\n",
       "      <td>https://api.scryfall.com/cards/6819b8c9-73a3-4...</td>\n",
       "      <td>https://scryfall.com/card/tund/4/dragon?utm_so...</td>\n",
       "      <td>...</td>\n",
       "      <td>NaN</td>\n",
       "      <td>NaN</td>\n",
       "      <td>NaN</td>\n",
       "      <td>NaN</td>\n",
       "      <td>NaN</td>\n",
       "      <td>NaN</td>\n",
       "      <td>NaN</td>\n",
       "      <td>NaN</td>\n",
       "      <td>NaN</td>\n",
       "      <td>NaN</td>\n",
       "    </tr>\n",
       "  </tbody>\n",
       "</table>\n",
       "<p>5 rows × 71 columns</p>\n",
       "</div>"
      ],
      "text/plain": [
       "  object                                    id  \\\n",
       "0   card  02efd6cf-1ed0-44b3-b3b9-94a45696e1f3   \n",
       "1   card  94355044-e67a-4605-a37b-e879784fc9e5   \n",
       "2   card  e8fb396f-3ae1-4705-bf94-3e1b0556e910   \n",
       "3   card  628c542b-7579-4070-9143-6f1f7221468f   \n",
       "4   card  6819b8c9-73a3-4e8e-ad7a-95cffabf873a   \n",
       "\n",
       "                              oracle_id multiverse_ids  \\\n",
       "0  09aeea91-b1dc-443f-a509-4758f052c0a7             []   \n",
       "1  9d3c7c96-056f-408e-a834-fa45a430d3d4             []   \n",
       "2  3c304eaa-09e9-4439-b35d-4b05a54c2fa7             []   \n",
       "3  d82528ac-88f7-4c38-9b1c-c33e6faea532             []   \n",
       "4  eaf318f0-2cad-437c-8162-78462ecbc235             []   \n",
       "\n",
       "                        name  printed_name lang released_at  \\\n",
       "0                Voltaic Key         通電式キー   ja  2020-03-26   \n",
       "1  Daxos, Blessed by the Sun  太陽に祝福されしダクソス   ja  2020-03-01   \n",
       "2                Acorn Stash           NaN   en  2020-02-29   \n",
       "3           Giant Teddy Bear           NaN   en  2020-02-29   \n",
       "4                     Dragon           NaN   en  2020-02-29   \n",
       "\n",
       "                                                 uri  \\\n",
       "0  https://api.scryfall.com/cards/02efd6cf-1ed0-4...   \n",
       "1  https://api.scryfall.com/cards/94355044-e67a-4...   \n",
       "2  https://api.scryfall.com/cards/e8fb396f-3ae1-4...   \n",
       "3  https://api.scryfall.com/cards/628c542b-7579-4...   \n",
       "4  https://api.scryfall.com/cards/6819b8c9-73a3-4...   \n",
       "\n",
       "                                        scryfall_uri  ... watermark  \\\n",
       "0  https://scryfall.com/card/pmei/35/ja/%E9%80%9A...  ...       NaN   \n",
       "1  https://scryfall.com/card/pmei/36/ja/%E5%A4%AA...  ...       NaN   \n",
       "2  https://scryfall.com/card/tund/6/acorn-stash?u...  ...       NaN   \n",
       "3  https://scryfall.com/card/tund/5/giant-teddy-b...  ...       NaN   \n",
       "4  https://scryfall.com/card/tund/4/dragon?utm_so...  ...       NaN   \n",
       "\n",
       "   color_indicator loyalty promo_types  mtgo_id life_modifier hand_modifier  \\\n",
       "0              NaN     NaN         NaN      NaN           NaN           NaN   \n",
       "1              NaN     NaN         NaN      NaN           NaN           NaN   \n",
       "2              NaN     NaN         NaN      NaN           NaN           NaN   \n",
       "3              NaN     NaN         NaN      NaN           NaN           NaN   \n",
       "4              NaN     NaN         NaN      NaN           NaN           NaN   \n",
       "\n",
       "  arena_id variation_of mtgo_foil_id  \n",
       "0      NaN          NaN          NaN  \n",
       "1      NaN          NaN          NaN  \n",
       "2      NaN          NaN          NaN  \n",
       "3      NaN          NaN          NaN  \n",
       "4      NaN          NaN          NaN  \n",
       "\n",
       "[5 rows x 71 columns]"
      ]
     },
     "execution_count": 51,
     "metadata": {},
     "output_type": "execute_result"
    }
   ],
   "source": [
    "#df = pd.read_csv(\"cards.csv\")\n",
    "df.head()"
   ]
  },
  {
   "cell_type": "code",
   "execution_count": 52,
   "metadata": {},
   "outputs": [
    {
     "data": {
      "text/plain": [
       "(51230, 71)"
      ]
     },
     "execution_count": 52,
     "metadata": {},
     "output_type": "execute_result"
    }
   ],
   "source": [
    "df.shape"
   ]
  },
  {
   "cell_type": "code",
   "execution_count": 53,
   "metadata": {},
   "outputs": [
    {
     "data": {
      "text/plain": [
       "Index(['object', 'id', 'oracle_id', 'multiverse_ids', 'name', 'printed_name',\n",
       "       'lang', 'released_at', 'uri', 'scryfall_uri', 'layout', 'highres_image',\n",
       "       'image_uris', 'mana_cost', 'cmc', 'type_line', 'printed_type_line',\n",
       "       'oracle_text', 'printed_text', 'colors', 'color_identity', 'legalities',\n",
       "       'games', 'reserved', 'foil', 'nonfoil', 'oversized', 'promo', 'reprint',\n",
       "       'variation', 'set', 'set_name', 'set_type', 'set_uri', 'set_search_uri',\n",
       "       'scryfall_set_uri', 'rulings_uri', 'prints_search_uri',\n",
       "       'collector_number', 'digital', 'rarity', 'card_back_id', 'artist',\n",
       "       'artist_ids', 'illustration_id', 'border_color', 'frame', 'full_art',\n",
       "       'textless', 'booster', 'story_spotlight', 'edhrec_rank', 'related_uris',\n",
       "       'power', 'toughness', 'frame_effects', 'all_parts', 'tcgplayer_id',\n",
       "       'preview', 'flavor_text', 'card_faces', 'watermark', 'color_indicator',\n",
       "       'loyalty', 'promo_types', 'mtgo_id', 'life_modifier', 'hand_modifier',\n",
       "       'arena_id', 'variation_of', 'mtgo_foil_id'],\n",
       "      dtype='object')"
      ]
     },
     "execution_count": 53,
     "metadata": {},
     "output_type": "execute_result"
    }
   ],
   "source": [
    "df.columns"
   ]
  },
  {
   "cell_type": "markdown",
   "metadata": {},
   "source": [
    "### Narrowing down to english cards"
   ]
  },
  {
   "cell_type": "code",
   "execution_count": 54,
   "metadata": {},
   "outputs": [
    {
     "data": {
      "text/plain": [
       "(49223, 71)"
      ]
     },
     "execution_count": 54,
     "metadata": {},
     "output_type": "execute_result"
    }
   ],
   "source": [
    "english_cards = df[df[\"lang\"] == \"en\"]\n",
    "english_cards.shape"
   ]
  },
  {
   "cell_type": "markdown",
   "metadata": {},
   "source": [
    "### Narrowing down to core set cards"
   ]
  },
  {
   "cell_type": "code",
   "execution_count": 55,
   "metadata": {},
   "outputs": [
    {
     "data": {
      "text/plain": [
       "array(['token', 'funny', 'promo', 'expansion', 'memorabilia', 'box',\n",
       "       'commander', 'core', 'spellbook', 'draft_innovation',\n",
       "       'masterpiece', 'planechase', 'masters', 'treasure_chest',\n",
       "       'starter', 'duel_deck', 'from_the_vault', 'archenemy',\n",
       "       'premium_deck', 'vanguard'], dtype=object)"
      ]
     },
     "execution_count": 55,
     "metadata": {},
     "output_type": "execute_result"
    }
   ],
   "source": [
    "english_cards[\"set_type\"].unique()"
   ]
  },
  {
   "cell_type": "code",
   "execution_count": 56,
   "metadata": {},
   "outputs": [
    {
     "data": {
      "text/plain": [
       "(6743, 71)"
      ]
     },
     "execution_count": 56,
     "metadata": {},
     "output_type": "execute_result"
    }
   ],
   "source": [
    "english_core_cards = english_cards[english_cards[\"set_type\"] == \"core\"]\n",
    "english_core_cards.shape"
   ]
  },
  {
   "cell_type": "markdown",
   "metadata": {},
   "source": [
    "Checking that we indeed have the complete core sets and that all the cards we select make sense for our analysis"
   ]
  },
  {
   "cell_type": "code",
   "execution_count": 57,
   "metadata": {},
   "outputs": [
    {
     "data": {
      "text/plain": [
       "array(['m20', 'm19', 'ori', 'm15', 'm14', 'm13', 'm12', 'm11', 'm10',\n",
       "       '10e', '9ed', '8ed', '7ed', '6ed', '5ed', '4ed', 'sum', '3ed',\n",
       "       '2ed', 'leb', 'lea'], dtype=object)"
      ]
     },
     "execution_count": 57,
     "metadata": {},
     "output_type": "execute_result"
    }
   ],
   "source": [
    "english_core_cards[\"set\"].unique()"
   ]
  },
  {
   "cell_type": "code",
   "execution_count": 58,
   "metadata": {},
   "outputs": [
    {
     "data": {
      "text/plain": [
       "(345, 71)"
      ]
     },
     "execution_count": 58,
     "metadata": {},
     "output_type": "execute_result"
    }
   ],
   "source": [
    "m20 = english_core_cards[english_core_cards[\"set\"] == \"m20\"]\n",
    "m20.shape"
   ]
  },
  {
   "cell_type": "markdown",
   "metadata": {},
   "source": [
    "After checking on scryfall.com, we realise that, for the example of M20, we do have all the cards.\n",
    "However, we also have some non-draftable cards, like the Buy-a-box promo or cards for planeswalker decks.\n",
    "For our analysis, it would be best to remove these non-booster cards, as they tend to be different and will not make for a fair comparison with older sets not having these subsets.\n",
    "We will now proceed to only keep in-booster cards:"
   ]
  },
  {
   "cell_type": "code",
   "execution_count": 59,
   "metadata": {},
   "outputs": [
    {
     "data": {
      "text/plain": [
       "array([False,  True])"
      ]
     },
     "execution_count": 59,
     "metadata": {},
     "output_type": "execute_result"
    }
   ],
   "source": [
    "english_core_cards[\"booster\"].unique()"
   ]
  },
  {
   "cell_type": "code",
   "execution_count": 60,
   "metadata": {},
   "outputs": [
    {
     "data": {
      "text/plain": [
       "(280, 71)"
      ]
     },
     "execution_count": 60,
     "metadata": {},
     "output_type": "execute_result"
    }
   ],
   "source": [
    "english_draftable_core_cards = english_core_cards[english_core_cards[\"booster\"] == True]\n",
    "english_draftable_core_cards[english_draftable_core_cards[\"set\"] == \"m20\"].shape"
   ]
  },
  {
   "cell_type": "markdown",
   "metadata": {},
   "source": [
    "There is indeed 280 draftable cards in M20, our operation succeeded."
   ]
  },
  {
   "cell_type": "markdown",
   "metadata": {},
   "source": [
    "### Narrowing down to creatures"
   ]
  },
  {
   "cell_type": "code",
   "execution_count": 61,
   "metadata": {},
   "outputs": [
    {
     "data": {
      "text/plain": [
       "array(['Basic Land: Forest', 'Basic Land: Mountain', 'Basic Land: Swamp',\n",
       "       'Basic Land: Island', 'Basic Land: Plains', 'Land', 'Artifact',\n",
       "       'Artifact Creature: Golem', 'Artifact Creature: Construct',\n",
       "       'Artifact Creature: Scarecrow', 'Artifact: Equipment',\n",
       "       'Legendary Artifact Creature: Scout', 'Artifact Creature: Knight',\n",
       "       'Artifact Creature: Bird', 'Legendary Creature: Elemental Horror',\n",
       "       'Creature: Zombie Wizard', 'Creature: Human Knight',\n",
       "       'Creature: Elemental', 'Legendary Creature: Elemental',\n",
       "       'Creature: Ogre Berserker', 'Enchantment',\n",
       "       'Creature: Elemental Wizard', 'Legendary Creature: Bird Wizard',\n",
       "       'Legendary Creature: Elf Advisor',\n",
       "       'Legendary Creature: Human Cleric', 'Creature: Treefolk Soldier',\n",
       "       'Creature: Bird Spirit', 'Creature: Zombie Knight',\n",
       "       'Creature: Elf Scout', 'Enchantment: Aura',\n",
       "       'Creature: Elemental Horror', 'Creature: Hydra',\n",
       "       'Legendary Planeswalker: Vivien', 'Instant', 'Creature: Dinosaur',\n",
       "       'Creature: Elemental Rhino', 'Creature: Ape Shaman',\n",
       "       'Creature: Scorpion', 'Sorcery', 'Creature: Wolf',\n",
       "       'Creature: Spider', 'Creature: Centaur Shaman',\n",
       "       'Creature: Elemental Druid', 'Creature: Giant Druid',\n",
       "       'Legendary Creature: Hydra', 'Creature: Elf Warrior',\n",
       "       'Creature: Centaur Warrior', 'Creature: Elemental Knight',\n",
       "       'Creature: Troll', 'Creature: Human Berserker',\n",
       "       'Creature: Elemental Shaman', 'Creature: Elemental Lizard',\n",
       "       'Creature: Dragon', 'Creature: Hound',\n",
       "       'Creature: Elemental Warrior', 'Creature: Human Warrior',\n",
       "       'Creature: Goblin Rogue', 'Creature: Goblin',\n",
       "       'Creature: Minotaur Pirate', 'Legendary Creature: Dragon',\n",
       "       'Creature: Dragon Wizard', 'Legendary Artifact',\n",
       "       'Creature: Elemental Cat', 'Legendary Planeswalker: Chandra',\n",
       "       'Creature: Horror', 'Legendary Creature: Demon',\n",
       "       'Creature: Orc Warrior', 'Creature: Vampire', 'Creature: Zombie',\n",
       "       'Legendary Planeswalker: Sorin', 'Creature: Human Wizard',\n",
       "       'Creature: Skeleton', 'Creature: Zombie Dinosaur',\n",
       "       'Creature: Vampire Knight', 'Creature: Bird', 'Creature: Thrull',\n",
       "       'Creature: Human Pirate', 'Creature: Demon', 'Creature: Nightmare',\n",
       "       'Creature: Vampire Rogue', 'Creature: Insect',\n",
       "       'Creature: Human Rogue', 'Creature: Bird Wizard',\n",
       "       'Creature: Spirit Pirate', 'Creature: Vedalken Wizard',\n",
       "       'Creature: Human Artificer', 'Creature: Octopus',\n",
       "       'Legendary Planeswalker: Yanling', 'Creature: Fish',\n",
       "       'Creature: Faerie Rogue', 'Creature: Serpent', 'Creature: Crab',\n",
       "       'Creature: Spirit', 'Creature: Drake', 'Creature: Merfolk Pirate',\n",
       "       'Legendary Creature: Sphinx', 'Creature: Ox',\n",
       "       'Creature: Human Soldier', 'Creature: Human Cleric',\n",
       "       'Legendary Creature: Angel', 'Creature: Pegasus',\n",
       "       'Creature: Elephant Cleric', 'Creature: Angel',\n",
       "       'Creature: Griffin', 'Legendary Planeswalker: Ajani',\n",
       "       'Artifact Creature: Wall', 'Artifact Creature: Thopter',\n",
       "       'Artifact Creature: Gargoyle', 'Artifact Creature: Horse',\n",
       "       'Legendary Creature: Elder Dragon', 'Creature: Satyr Druid',\n",
       "       'Creature: Vampire Soldier', 'Creature: Nightmare Horror',\n",
       "       'Creature: Elf Archer',\n",
       "       'Legendary Creature: Elder Dragon // Legendary Planeswalker: Bolas',\n",
       "       'Creature: Human Shaman', 'Creature: Ogre Warrior',\n",
       "       'Creature: Plant Wall', 'Creature: Elemental Horse',\n",
       "       'Creature: Beast', 'Creature: Rhino Monk', 'Creature: Elf Shaman',\n",
       "       'Creature: Wurm', 'Creature: Elk', 'Legendary Creature: Bear',\n",
       "       'Creature: Treefolk', 'Creature: Elf Druid', 'Creature: Dryad',\n",
       "       'Creature: Human Druid', 'Creature: Basilisk', 'Creature: Boar',\n",
       "       'Creature: Goblin Warrior', 'Creature: Viashino Wizard',\n",
       "       'Creature: Giant Warrior', 'Legendary Planeswalker: Sarkhan',\n",
       "       'Creature: Hellion', 'Creature: Minotaur', 'Creature: Devil',\n",
       "       'Creature: Goblin Shaman', 'Creature: Dragon Egg',\n",
       "       'Creature: Vampire Noble', 'Creature: Skeleton Archer',\n",
       "       'Creature: Skeleton Warrior', 'Creature: Harpy',\n",
       "       'Creature: Nightmare Horse', 'Legendary Planeswalker: Liliana',\n",
       "       'Legendary Creature: Human Wizard', 'Creature: Zombie Horror',\n",
       "       'Creature: Human Assassin', 'Creature: Zombie Soldier',\n",
       "       'Creature: Specter', 'Creature: Human',\n",
       "       'Creature: Dragon Skeleton', 'Creature: Sphinx', 'Creature: Wall',\n",
       "       'Legendary Planeswalker: Tezzeret', 'Creature: Horse Fish',\n",
       "       'Creature: Merfolk Wizard', 'Legendary Creature: Human Artificer',\n",
       "       'Creature: Shapeshifter', 'Creature: Djinn', 'Creature: Horse',\n",
       "       'Creature: Spirit Cleric', 'Creature: Cat Warrior',\n",
       "       'Creature: Elephant Soldier', 'Creature: Cat Soldier',\n",
       "       'Legendary Creature: Human Knight', 'Creature: Dwarf Cleric',\n",
       "       'Creature: Dwarf Artificer', 'Legendary Artifact: Equipment',\n",
       "       'Artifact Creature: Juggernaut', 'Artifact Creature: Chimera',\n",
       "       'Creature: Fish Lizard', 'Creature: Elemental Hound',\n",
       "       'Creature: Human Monk', 'Creature: Elf', 'Creature: Rhino Soldier',\n",
       "       'Creature: Giant',\n",
       "       'Legendary Creature: Elf Scout // Legendary Planeswalker: Nissa',\n",
       "       'Legendary Creature: Elf Warrior', 'Creature: Goblin Scout',\n",
       "       'Legendary Creature: Human Shaman // Legendary Planeswalker: Chandra',\n",
       "       'Creature: Lizard', 'Creature: Zombie Centaur',\n",
       "       'Creature: Zombie Insect', 'Creature: Vampire Warrior',\n",
       "       'Legendary Creature: Human Cleric // Legendary Planeswalker: Liliana',\n",
       "       'Creature: Zombie Warrior', 'Creature: Imp',\n",
       "       'Creature: Elf Assassin', 'Creature: Slug',\n",
       "       'Creature: Human Rogue Artificer', 'Creature: Zombie Giant',\n",
       "       'Creature: Starfish', 'Creature: Zombie Drake',\n",
       "       'Creature: Illusion Wall', 'Creature: Merfolk Soldier',\n",
       "       'Legendary Creature: Human Wizard // Legendary Planeswalker: Jace',\n",
       "       'Creature: Antelope', 'Creature: Bird Soldier',\n",
       "       'Creature: Giant Soldier',\n",
       "       'Legendary Creature: Human Soldier // Legendary Planeswalker: Gideon',\n",
       "       'Legendary Creature: Human Soldier', 'Creature: Cat Monk',\n",
       "       'Creature: Bird Cleric', 'Legendary Land', 'Artifact Land',\n",
       "       'Artifact Creature: Avatar', 'Artifact Creature: Horror',\n",
       "       'Artifact Creature: Sable', 'Legendary Creature: Sliver',\n",
       "       'Legendary Planeswalker: Garruk',\n",
       "       'Legendary Creature: Human Rogue', 'Creature: Sliver',\n",
       "       'Creature: Fungus Horror', 'Creature: Avatar', 'Creature: Satyr',\n",
       "       'Creature: Bear', 'Creature: Plant Elemental',\n",
       "       'Legendary Planeswalker: Nissa', 'Creature: Treefolk Warrior',\n",
       "       'Creature: Plant Hydra', 'Creature: Rhino',\n",
       "       'Creature: Plant Elemental Beast', 'Creature: Ape',\n",
       "       'Legendary Creature: Ogre Spirit', 'Creature: Goblin Knight',\n",
       "       'Creature: Goblin Berserker', 'Creature: Shade', 'Creature: Frog',\n",
       "       'Creature: Zombie Wall', 'Creature: Rat', 'Creature: Zombie Bird',\n",
       "       'Creature: Zombie Cat', 'Creature: Leviathan', 'Creature: Leech',\n",
       "       'Legendary Planeswalker: Jace', 'Creature: Angel Illusion',\n",
       "       'Creature: Vedalken Artificer', 'Creature: Squid Horror',\n",
       "       'Creature: Salamander Wizard', 'Creature: Kithkin Soldier',\n",
       "       'Creature: Hippogriff', 'Creature: Giant Monk',\n",
       "       'Artifact Creature: Sliver Construct', 'Creature: Fungus',\n",
       "       'Creature: Ooze', 'Creature: Cyclops', 'Creature: Phoenix',\n",
       "       'Creature: Minotaur Warrior', 'Creature: Zombie Minotaur',\n",
       "       'Creature: Salamander', 'Creature: Cockatrice',\n",
       "       'Creature: Merfolk Rogue', 'Creature: Illusion Warrior',\n",
       "       'Creature: Fish Illusion', 'Creature: Merfolk', 'Creature: Whale',\n",
       "       'Creature: Rhino Cleric', 'Creature: Elephant',\n",
       "       'Creature: Human Scout', 'Creature: Human Noble',\n",
       "       'Artifact Creature: Shapeshifter', 'Legendary Planeswalker: Bolas',\n",
       "       'Legendary Creature: Elf Shaman', 'Creature: Viashino Shaman',\n",
       "       'Legendary Creature: Goblin Warrior', 'Creature: Gorgon',\n",
       "       'Creature: Vampire Shaman', 'Creature: Bat',\n",
       "       'Legendary Creature: Merfolk Wizard', 'Creature: Kraken',\n",
       "       'Creature: Illusion', 'Creature: Cat', 'Creature: Cat Cleric',\n",
       "       'Creature: Crocodile', 'Creature: Dragon Illusion',\n",
       "       'Creature: Bear Illusion', 'Creature: Salamander Rogue',\n",
       "       'Creature: Siren', 'Creature: Bird Egg',\n",
       "       'Legendary Planeswalker: Gideon', 'Creature: Archon',\n",
       "       'Creature: Human Archer', 'Artifact Creature: Angel',\n",
       "       'Creature: Unicorn', 'Creature: Cyclops Warrior',\n",
       "       'Creature: Elemental Ox', 'Creature: Vampire Wizard',\n",
       "       'Creature: Insect Shade', 'Creature: Illusion Beast',\n",
       "       'Creature: Merfolk Noble', 'Creature: Fungus Snake',\n",
       "       'Creature: Viashino Warrior', 'Creature: Jackal',\n",
       "       'Creature: Efreet', 'Creature: Skeleton Wall',\n",
       "       'Creature: Vampire Rogue Noble', 'Creature: Human Wizard Warlock',\n",
       "       'Creature: Wraith', 'Creature: Faerie', 'Creature: Turtle',\n",
       "       'Artifact Creature: Masticore', 'Artifact Creature: Insect',\n",
       "       'Artifact Creature: Gnome', 'Creature: Troll Shaman',\n",
       "       'Creature: Antelope Beast', 'Creature: Rhino Beast',\n",
       "       'Legendary Creature: Cat Warrior', 'Creature: Kavu',\n",
       "       'Creature: Yeti', 'Creature: Elf Berserker',\n",
       "       'Creature: Elf Druid Warrior', 'Creature: Viashino Scout',\n",
       "       'Creature: Viashino', 'Legendary Creature: Goblin',\n",
       "       'Creature: Badger Beast', 'Legendary Creature: Human Barbarian',\n",
       "       'Creature: Goblin Mutant', 'Creature: Elemental Spirit',\n",
       "       'Creature: Zombie Mercenary', 'Creature: Minion',\n",
       "       'Legendary Creature: Avatar Minion', 'Creature: Lhurgoyf',\n",
       "       'Creature: Human Mercenary', 'Creature: Zombie Spirit',\n",
       "       'Creature: Zombie Goblin', 'Creature: Zombie Crocodile',\n",
       "       'Creature: Human Cleric Mercenary',\n",
       "       'Legendary Creature: Vampire Noble', 'Creature: Metathran Wizard',\n",
       "       'Creature: Cephalid Wizard', 'Creature: Bird Soldier Wizard',\n",
       "       'Legendary Creature: Wizard', 'Creature: Human Monk Cleric',\n",
       "       'Creature: Human Rebel', 'Creature: Human Cleric Mutant',\n",
       "       'Creature: Cat Knight', 'Creature: Human Nomad Cleric',\n",
       "       'Legendary Creature: Human Rebel', 'Land: Urza’s Tower',\n",
       "       'Land: Urza’s Power-Plant', 'Land: Urza’s Mine',\n",
       "       'Artifact Creature: Spirit', 'Creature: Monkey', 'Creature: Plant',\n",
       "       'Creature: Snake', 'Creature: Human Soldier Warrior',\n",
       "       'Creature: Ogre', 'Creature: Human Barbarian',\n",
       "       'Creature: Minotaur Shaman', 'Creature: Snake Warrior',\n",
       "       'Creature: Zombie Hound', 'Creature: Drone',\n",
       "       'Creature: Human Soldier Archer', 'Creature: Insect Druid',\n",
       "       'Creature: Badger', 'Creature: Fungus Dinosaur', 'Creature: Atog',\n",
       "       'Creature: Orc Rogue', 'Creature: Dwarf',\n",
       "       'Creature: Cyclops Giant', 'Creature: Horror Mercenary',\n",
       "       'Creature: Carrier', 'Creature: Homunculus Illusion',\n",
       "       'Creature: Angel Spirit', 'Creature: Nymph Dryad',\n",
       "       'Creature: Elk Beast', 'Creature: Elf Cleric Druid',\n",
       "       'Creature: Hippo', 'Creature: Orgg',\n",
       "       'Creature: Human Cleric Shaman', 'Creature: Human Nomad',\n",
       "       'Creature: Zombie Assassin', 'Creature: Human Minion',\n",
       "       'Creature: Rabbit Beast', 'Creature: Ouphe',\n",
       "       'Creature: Minotaur Berserker', 'Creature: Goat',\n",
       "       'Creature: Spirit Minion', 'Creature: Nightstalker',\n",
       "       'Creature: Eye', 'Artifact Creature: Beast', 'Creature: Wolverine',\n",
       "       'Creature: Wombat', 'Creature: Aurochs', 'Creature: Orc',\n",
       "       'Creature: Dwarf Warrior', 'Creature: Dwarf Soldier',\n",
       "       'Creature: Manticore', 'Creature: Human Bird', 'Creature: Worm',\n",
       "       'Creature: Cleric', 'Creature: Werewolf',\n",
       "       'Creature: Zombie Pirate', 'Creature: Homarid Warrior',\n",
       "       'Creature: Avatar Incarnation', 'Creature: Giant Cleric',\n",
       "       'Creature: Human Soldier Scout', 'Creature: Human Advisor',\n",
       "       'Creature: Gargoyle', 'Artifact Creature: Soldier',\n",
       "       'Creature: Dragon Wurm', 'Creature: Kithkin',\n",
       "       'Land: Island Mountain', 'Land: Island Swamp',\n",
       "       'Land: Plains Island', 'Land: Forest Island',\n",
       "       'Land: Mountain Forest', 'Land: Plains Swamp',\n",
       "       'Land: Forest Plains', 'Land: Mountain Plains',\n",
       "       'Land: Swamp Forest', 'Land: Swamp Mountain'], dtype=object)"
      ]
     },
     "execution_count": 61,
     "metadata": {},
     "output_type": "execute_result"
    }
   ],
   "source": [
    "english_draftable_core_cards[\"type_line\"].unique()"
   ]
  },
  {
   "cell_type": "markdown",
   "metadata": {},
   "source": [
    "We will only keep rows where the type_line contains \"Creature\""
   ]
  },
  {
   "cell_type": "code",
   "execution_count": 62,
   "metadata": {},
   "outputs": [
    {
     "data": {
      "text/plain": [
       "(2801, 71)"
      ]
     },
     "execution_count": 62,
     "metadata": {},
     "output_type": "execute_result"
    }
   ],
   "source": [
    "english_draftable_core_creatures = english_draftable_core_cards[english_draftable_core_cards[\"type_line\"].str.contains(\"Creature\")]\n",
    "english_draftable_core_creatures.shape"
   ]
  },
  {
   "cell_type": "code",
   "execution_count": 63,
   "metadata": {},
   "outputs": [
    {
     "data": {
      "text/plain": [
       "141"
      ]
     },
     "execution_count": 63,
     "metadata": {},
     "output_type": "execute_result"
    }
   ],
   "source": [
    "(english_draftable_core_creatures[\"set\"] == \"m20\").sum()"
   ]
  },
  {
   "cell_type": "markdown",
   "metadata": {},
   "source": [
    "There is indeed 141 draftable creatures in M20."
   ]
  },
  {
   "cell_type": "markdown",
   "metadata": {},
   "source": [
    "### Narrowing note\n",
    "We started with 51 230 cards and we now only work with 2 801, which is about 5.47% of the starting rows."
   ]
  },
  {
   "cell_type": "markdown",
   "metadata": {},
   "source": [
    "### Excluding unnecessary columns"
   ]
  },
  {
   "cell_type": "code",
   "execution_count": 64,
   "metadata": {},
   "outputs": [],
   "source": [
    "relevant_columns = [\"id\", \"name\", \"mana_cost\", \"cmc\", \"type_line\", \"colors\", \"set\", \"set_name\", \"rarity\", \"power\", \"toughness\", \"released_at\"]\n",
    "# We only take the selected columns, copy the data, and reset the index without keeping the old one\n",
    "selected_creatures = english_draftable_core_creatures[relevant_columns].copy().reset_index(drop = True)"
   ]
  },
  {
   "cell_type": "code",
   "execution_count": 65,
   "metadata": {},
   "outputs": [
    {
     "data": {
      "text/html": [
       "<div>\n",
       "<style scoped>\n",
       "    .dataframe tbody tr th:only-of-type {\n",
       "        vertical-align: middle;\n",
       "    }\n",
       "\n",
       "    .dataframe tbody tr th {\n",
       "        vertical-align: top;\n",
       "    }\n",
       "\n",
       "    .dataframe thead th {\n",
       "        text-align: right;\n",
       "    }\n",
       "</style>\n",
       "<table border=\"1\" class=\"dataframe\">\n",
       "  <thead>\n",
       "    <tr style=\"text-align: right;\">\n",
       "      <th></th>\n",
       "      <th>id</th>\n",
       "      <th>name</th>\n",
       "      <th>mana_cost</th>\n",
       "      <th>cmc</th>\n",
       "      <th>type_line</th>\n",
       "      <th>colors</th>\n",
       "      <th>set</th>\n",
       "      <th>set_name</th>\n",
       "      <th>rarity</th>\n",
       "      <th>power</th>\n",
       "      <th>toughness</th>\n",
       "      <th>released_at</th>\n",
       "    </tr>\n",
       "  </thead>\n",
       "  <tbody>\n",
       "    <tr>\n",
       "      <td>0</td>\n",
       "      <td>1b4de70a-729b-4566-b6f3-c76f551405a5</td>\n",
       "      <td>Stone Golem</td>\n",
       "      <td>{5}</td>\n",
       "      <td>5.0</td>\n",
       "      <td>Artifact Creature: Golem</td>\n",
       "      <td>[]</td>\n",
       "      <td>m20</td>\n",
       "      <td>Core Set 2020</td>\n",
       "      <td>common</td>\n",
       "      <td>4</td>\n",
       "      <td>4</td>\n",
       "      <td>2019-07-12</td>\n",
       "    </tr>\n",
       "    <tr>\n",
       "      <td>1</td>\n",
       "      <td>6ed61426-e652-4b48-b936-8be9b6b57731</td>\n",
       "      <td>Steel Overseer</td>\n",
       "      <td>{2}</td>\n",
       "      <td>2.0</td>\n",
       "      <td>Artifact Creature: Construct</td>\n",
       "      <td>[]</td>\n",
       "      <td>m20</td>\n",
       "      <td>Core Set 2020</td>\n",
       "      <td>rare</td>\n",
       "      <td>1</td>\n",
       "      <td>1</td>\n",
       "      <td>2019-07-12</td>\n",
       "    </tr>\n",
       "    <tr>\n",
       "      <td>2</td>\n",
       "      <td>39f2d2e8-a9ed-42cc-9a8a-fc697a7251e5</td>\n",
       "      <td>Scuttlemutt</td>\n",
       "      <td>{3}</td>\n",
       "      <td>3.0</td>\n",
       "      <td>Artifact Creature: Scarecrow</td>\n",
       "      <td>[]</td>\n",
       "      <td>m20</td>\n",
       "      <td>Core Set 2020</td>\n",
       "      <td>uncommon</td>\n",
       "      <td>2</td>\n",
       "      <td>2</td>\n",
       "      <td>2019-07-12</td>\n",
       "    </tr>\n",
       "    <tr>\n",
       "      <td>3</td>\n",
       "      <td>8dd2ebbe-71c6-405b-bad0-5680f0ff575c</td>\n",
       "      <td>Salvager of Ruin</td>\n",
       "      <td>{3}</td>\n",
       "      <td>3.0</td>\n",
       "      <td>Artifact Creature: Construct</td>\n",
       "      <td>[]</td>\n",
       "      <td>m20</td>\n",
       "      <td>Core Set 2020</td>\n",
       "      <td>uncommon</td>\n",
       "      <td>2</td>\n",
       "      <td>1</td>\n",
       "      <td>2019-07-12</td>\n",
       "    </tr>\n",
       "    <tr>\n",
       "      <td>4</td>\n",
       "      <td>5c9fdb01-ba52-4510-897e-0d69558fdaee</td>\n",
       "      <td>Prismite</td>\n",
       "      <td>{2}</td>\n",
       "      <td>2.0</td>\n",
       "      <td>Artifact Creature: Golem</td>\n",
       "      <td>[]</td>\n",
       "      <td>m20</td>\n",
       "      <td>Core Set 2020</td>\n",
       "      <td>common</td>\n",
       "      <td>2</td>\n",
       "      <td>1</td>\n",
       "      <td>2019-07-12</td>\n",
       "    </tr>\n",
       "  </tbody>\n",
       "</table>\n",
       "</div>"
      ],
      "text/plain": [
       "                                     id              name mana_cost  cmc  \\\n",
       "0  1b4de70a-729b-4566-b6f3-c76f551405a5       Stone Golem       {5}  5.0   \n",
       "1  6ed61426-e652-4b48-b936-8be9b6b57731    Steel Overseer       {2}  2.0   \n",
       "2  39f2d2e8-a9ed-42cc-9a8a-fc697a7251e5       Scuttlemutt       {3}  3.0   \n",
       "3  8dd2ebbe-71c6-405b-bad0-5680f0ff575c  Salvager of Ruin       {3}  3.0   \n",
       "4  5c9fdb01-ba52-4510-897e-0d69558fdaee          Prismite       {2}  2.0   \n",
       "\n",
       "                      type_line colors  set       set_name    rarity power  \\\n",
       "0      Artifact Creature: Golem     []  m20  Core Set 2020    common     4   \n",
       "1  Artifact Creature: Construct     []  m20  Core Set 2020      rare     1   \n",
       "2  Artifact Creature: Scarecrow     []  m20  Core Set 2020  uncommon     2   \n",
       "3  Artifact Creature: Construct     []  m20  Core Set 2020  uncommon     2   \n",
       "4      Artifact Creature: Golem     []  m20  Core Set 2020    common     2   \n",
       "\n",
       "  toughness released_at  \n",
       "0         4  2019-07-12  \n",
       "1         1  2019-07-12  \n",
       "2         2  2019-07-12  \n",
       "3         1  2019-07-12  \n",
       "4         1  2019-07-12  "
      ]
     },
     "execution_count": 65,
     "metadata": {},
     "output_type": "execute_result"
    }
   ],
   "source": [
    "selected_creatures.head()"
   ]
  },
  {
   "cell_type": "code",
   "execution_count": 66,
   "metadata": {},
   "outputs": [],
   "source": [
    "# We will use 'sc' as a shorthand to make lines shorter\n",
    "sc = selected_creatures"
   ]
  },
  {
   "cell_type": "markdown",
   "metadata": {},
   "source": [
    "### Cleaning column data"
   ]
  },
  {
   "cell_type": "code",
   "execution_count": 67,
   "metadata": {},
   "outputs": [
    {
     "data": {
      "text/plain": [
       "id                     object\n",
       "name                   object\n",
       "mana_cost              object\n",
       "cmc                   float64\n",
       "type_line              object\n",
       "colors                 object\n",
       "set                    object\n",
       "set_name               object\n",
       "rarity                 object\n",
       "power                  object\n",
       "toughness              object\n",
       "released_at    datetime64[ns]\n",
       "dtype: object"
      ]
     },
     "execution_count": 67,
     "metadata": {},
     "output_type": "execute_result"
    }
   ],
   "source": [
    "sc.dtypes"
   ]
  },
  {
   "cell_type": "markdown",
   "metadata": {},
   "source": [
    "We would like to convert to int the cmc, power and toughness columns.\n",
    "We will proceed to examine their unique values to see if we can."
   ]
  },
  {
   "cell_type": "markdown",
   "metadata": {},
   "source": [
    "#### 'cmc' column"
   ]
  },
  {
   "cell_type": "code",
   "execution_count": 68,
   "metadata": {},
   "outputs": [
    {
     "data": {
      "text/plain": [
       "array([ 5.,  2.,  3.,  4.,  7.,  6.,  1.,  8.,  0.,  9., 11.])"
      ]
     },
     "execution_count": 68,
     "metadata": {},
     "output_type": "execute_result"
    }
   ],
   "source": [
    "sc[\"cmc\"].unique()"
   ]
  },
  {
   "cell_type": "code",
   "execution_count": 69,
   "metadata": {
    "scrolled": true
   },
   "outputs": [],
   "source": [
    "sc[\"cmc\"] = sc[\"cmc\"].astype(int)"
   ]
  },
  {
   "cell_type": "markdown",
   "metadata": {},
   "source": [
    "#### 'power' and 'toughness' columns"
   ]
  },
  {
   "cell_type": "code",
   "execution_count": 70,
   "metadata": {},
   "outputs": [
    {
     "data": {
      "text/plain": [
       "array(['4', '1', '2', '3', '*', '5', '7', '0', '8', '6', nan, '10', '9',\n",
       "       '11', '2+*'], dtype=object)"
      ]
     },
     "execution_count": 70,
     "metadata": {},
     "output_type": "execute_result"
    }
   ],
   "source": [
    "sc[\"power\"].unique()"
   ]
  },
  {
   "cell_type": "code",
   "execution_count": 71,
   "metadata": {},
   "outputs": [
    {
     "data": {
      "text/plain": [
       "array(['4', '1', '2', '3', '5', '7', '6', '8', '0', nan, '10', '*', '9',\n",
       "       '11', '1+*', '7-*', '2+*'], dtype=object)"
      ]
     },
     "execution_count": 71,
     "metadata": {},
     "output_type": "execute_result"
    }
   ],
   "source": [
    "sc[\"toughness\"].unique()"
   ]
  },
  {
   "cell_type": "markdown",
   "metadata": {},
   "source": [
    "We note that there are non-numeric values, '*', '+' and 'nan'. The first two indicate a dynamic value. The 'nan' is concerning.\n",
    "We will now inspect them closely to see if we can approximate their value to a int, or need to drop them:"
   ]
  },
  {
   "cell_type": "code",
   "execution_count": 72,
   "metadata": {},
   "outputs": [
    {
     "data": {
      "text/html": [
       "<div>\n",
       "<style scoped>\n",
       "    .dataframe tbody tr th:only-of-type {\n",
       "        vertical-align: middle;\n",
       "    }\n",
       "\n",
       "    .dataframe tbody tr th {\n",
       "        vertical-align: top;\n",
       "    }\n",
       "\n",
       "    .dataframe thead th {\n",
       "        text-align: right;\n",
       "    }\n",
       "</style>\n",
       "<table border=\"1\" class=\"dataframe\">\n",
       "  <thead>\n",
       "    <tr style=\"text-align: right;\">\n",
       "      <th></th>\n",
       "      <th>id</th>\n",
       "      <th>name</th>\n",
       "      <th>mana_cost</th>\n",
       "      <th>cmc</th>\n",
       "      <th>type_line</th>\n",
       "      <th>colors</th>\n",
       "      <th>set</th>\n",
       "      <th>set_name</th>\n",
       "      <th>rarity</th>\n",
       "      <th>power</th>\n",
       "      <th>toughness</th>\n",
       "      <th>released_at</th>\n",
       "    </tr>\n",
       "  </thead>\n",
       "  <tbody>\n",
       "    <tr>\n",
       "      <td>20</td>\n",
       "      <td>edec85ce-7daa-48c2-b25d-b22941e01e73</td>\n",
       "      <td>Ironroot Warlord</td>\n",
       "      <td>{1}{G}{W}</td>\n",
       "      <td>3</td>\n",
       "      <td>Creature: Treefolk Soldier</td>\n",
       "      <td>[G, W]</td>\n",
       "      <td>m20</td>\n",
       "      <td>Core Set 2020</td>\n",
       "      <td>uncommon</td>\n",
       "      <td>*</td>\n",
       "      <td>5</td>\n",
       "      <td>2019-07-12</td>\n",
       "    </tr>\n",
       "    <tr>\n",
       "      <td>156</td>\n",
       "      <td>6e0def77-3528-40fb-a6b2-c3d1e31ade65</td>\n",
       "      <td>Enigma Drake</td>\n",
       "      <td>{1}{U}{R}</td>\n",
       "      <td>3</td>\n",
       "      <td>Creature: Drake</td>\n",
       "      <td>[R, U]</td>\n",
       "      <td>m19</td>\n",
       "      <td>Core Set 2019</td>\n",
       "      <td>uncommon</td>\n",
       "      <td>*</td>\n",
       "      <td>4</td>\n",
       "      <td>2018-07-13</td>\n",
       "    </tr>\n",
       "    <tr>\n",
       "      <td>292</td>\n",
       "      <td>eb12b1d8-c53e-4d48-89e5-2168ff34a853</td>\n",
       "      <td>Zendikar Incarnate</td>\n",
       "      <td>{2}{R}{G}</td>\n",
       "      <td>4</td>\n",
       "      <td>Creature: Elemental</td>\n",
       "      <td>[G, R]</td>\n",
       "      <td>ori</td>\n",
       "      <td>Magic Origins</td>\n",
       "      <td>uncommon</td>\n",
       "      <td>*</td>\n",
       "      <td>4</td>\n",
       "      <td>2015-07-17</td>\n",
       "    </tr>\n",
       "    <tr>\n",
       "      <td>354</td>\n",
       "      <td>c7c6dbe5-3375-42c2-88f5-8ead0dc2b094</td>\n",
       "      <td>Revenant</td>\n",
       "      <td>{4}{B}</td>\n",
       "      <td>5</td>\n",
       "      <td>Creature: Spirit</td>\n",
       "      <td>[B]</td>\n",
       "      <td>ori</td>\n",
       "      <td>Magic Origins</td>\n",
       "      <td>uncommon</td>\n",
       "      <td>*</td>\n",
       "      <td>*</td>\n",
       "      <td>2015-07-17</td>\n",
       "    </tr>\n",
       "    <tr>\n",
       "      <td>446</td>\n",
       "      <td>dabe0865-5420-463e-9138-ccd805be8b31</td>\n",
       "      <td>Kalonian Twingrove</td>\n",
       "      <td>{5}{G}</td>\n",
       "      <td>6</td>\n",
       "      <td>Creature: Treefolk Warrior</td>\n",
       "      <td>[G]</td>\n",
       "      <td>m15</td>\n",
       "      <td>Magic 2015</td>\n",
       "      <td>rare</td>\n",
       "      <td>*</td>\n",
       "      <td>*</td>\n",
       "      <td>2014-07-18</td>\n",
       "    </tr>\n",
       "    <tr>\n",
       "      <td>...</td>\n",
       "      <td>...</td>\n",
       "      <td>...</td>\n",
       "      <td>...</td>\n",
       "      <td>...</td>\n",
       "      <td>...</td>\n",
       "      <td>...</td>\n",
       "      <td>...</td>\n",
       "      <td>...</td>\n",
       "      <td>...</td>\n",
       "      <td>...</td>\n",
       "      <td>...</td>\n",
       "      <td>...</td>\n",
       "    </tr>\n",
       "    <tr>\n",
       "      <td>2674</td>\n",
       "      <td>fc78dced-27d2-441a-b63b-32356bc33747</td>\n",
       "      <td>Nightmare</td>\n",
       "      <td>{5}{B}</td>\n",
       "      <td>6</td>\n",
       "      <td>Creature: Nightmare Horse</td>\n",
       "      <td>[B]</td>\n",
       "      <td>leb</td>\n",
       "      <td>Limited Edition Beta</td>\n",
       "      <td>rare</td>\n",
       "      <td>*</td>\n",
       "      <td>*</td>\n",
       "      <td>1993-10-04</td>\n",
       "    </tr>\n",
       "    <tr>\n",
       "      <td>2727</td>\n",
       "      <td>e2b15221-c8b0-4861-9f8b-8a65834ad499</td>\n",
       "      <td>Gaea's Liege</td>\n",
       "      <td>{3}{G}{G}{G}</td>\n",
       "      <td>6</td>\n",
       "      <td>Creature: Avatar</td>\n",
       "      <td>[G]</td>\n",
       "      <td>lea</td>\n",
       "      <td>Limited Edition Alpha</td>\n",
       "      <td>rare</td>\n",
       "      <td>*</td>\n",
       "      <td>*</td>\n",
       "      <td>1993-08-05</td>\n",
       "    </tr>\n",
       "    <tr>\n",
       "      <td>2745</td>\n",
       "      <td>8fe3fd83-969c-4add-888f-86f4306b067c</td>\n",
       "      <td>Keldon Warlord</td>\n",
       "      <td>{2}{R}{R}</td>\n",
       "      <td>4</td>\n",
       "      <td>Creature: Human Barbarian</td>\n",
       "      <td>[R]</td>\n",
       "      <td>lea</td>\n",
       "      <td>Limited Edition Alpha</td>\n",
       "      <td>uncommon</td>\n",
       "      <td>*</td>\n",
       "      <td>*</td>\n",
       "      <td>1993-08-05</td>\n",
       "    </tr>\n",
       "    <tr>\n",
       "      <td>2765</td>\n",
       "      <td>b3724e40-0622-4aee-9334-6c9fff88bcd5</td>\n",
       "      <td>Plague Rats</td>\n",
       "      <td>{2}{B}</td>\n",
       "      <td>3</td>\n",
       "      <td>Creature: Rat</td>\n",
       "      <td>[B]</td>\n",
       "      <td>lea</td>\n",
       "      <td>Limited Edition Alpha</td>\n",
       "      <td>common</td>\n",
       "      <td>*</td>\n",
       "      <td>*</td>\n",
       "      <td>1993-08-05</td>\n",
       "    </tr>\n",
       "    <tr>\n",
       "      <td>2766</td>\n",
       "      <td>b8cdd6a7-f772-4ccb-914f-63f52ed54d6b</td>\n",
       "      <td>Nightmare</td>\n",
       "      <td>{5}{B}</td>\n",
       "      <td>6</td>\n",
       "      <td>Creature: Nightmare Horse</td>\n",
       "      <td>[B]</td>\n",
       "      <td>lea</td>\n",
       "      <td>Limited Edition Alpha</td>\n",
       "      <td>rare</td>\n",
       "      <td>*</td>\n",
       "      <td>*</td>\n",
       "      <td>1993-08-05</td>\n",
       "    </tr>\n",
       "  </tbody>\n",
       "</table>\n",
       "<p>79 rows × 12 columns</p>\n",
       "</div>"
      ],
      "text/plain": [
       "                                        id                name     mana_cost  \\\n",
       "20    edec85ce-7daa-48c2-b25d-b22941e01e73    Ironroot Warlord     {1}{G}{W}   \n",
       "156   6e0def77-3528-40fb-a6b2-c3d1e31ade65        Enigma Drake     {1}{U}{R}   \n",
       "292   eb12b1d8-c53e-4d48-89e5-2168ff34a853  Zendikar Incarnate     {2}{R}{G}   \n",
       "354   c7c6dbe5-3375-42c2-88f5-8ead0dc2b094            Revenant        {4}{B}   \n",
       "446   dabe0865-5420-463e-9138-ccd805be8b31  Kalonian Twingrove        {5}{G}   \n",
       "...                                    ...                 ...           ...   \n",
       "2674  fc78dced-27d2-441a-b63b-32356bc33747           Nightmare        {5}{B}   \n",
       "2727  e2b15221-c8b0-4861-9f8b-8a65834ad499        Gaea's Liege  {3}{G}{G}{G}   \n",
       "2745  8fe3fd83-969c-4add-888f-86f4306b067c      Keldon Warlord     {2}{R}{R}   \n",
       "2765  b3724e40-0622-4aee-9334-6c9fff88bcd5         Plague Rats        {2}{B}   \n",
       "2766  b8cdd6a7-f772-4ccb-914f-63f52ed54d6b           Nightmare        {5}{B}   \n",
       "\n",
       "      cmc                   type_line  colors  set               set_name  \\\n",
       "20      3  Creature: Treefolk Soldier  [G, W]  m20          Core Set 2020   \n",
       "156     3             Creature: Drake  [R, U]  m19          Core Set 2019   \n",
       "292     4         Creature: Elemental  [G, R]  ori          Magic Origins   \n",
       "354     5            Creature: Spirit     [B]  ori          Magic Origins   \n",
       "446     6  Creature: Treefolk Warrior     [G]  m15             Magic 2015   \n",
       "...   ...                         ...     ...  ...                    ...   \n",
       "2674    6   Creature: Nightmare Horse     [B]  leb   Limited Edition Beta   \n",
       "2727    6            Creature: Avatar     [G]  lea  Limited Edition Alpha   \n",
       "2745    4   Creature: Human Barbarian     [R]  lea  Limited Edition Alpha   \n",
       "2765    3               Creature: Rat     [B]  lea  Limited Edition Alpha   \n",
       "2766    6   Creature: Nightmare Horse     [B]  lea  Limited Edition Alpha   \n",
       "\n",
       "        rarity power toughness released_at  \n",
       "20    uncommon     *         5  2019-07-12  \n",
       "156   uncommon     *         4  2018-07-13  \n",
       "292   uncommon     *         4  2015-07-17  \n",
       "354   uncommon     *         *  2015-07-17  \n",
       "446       rare     *         *  2014-07-18  \n",
       "...        ...   ...       ...         ...  \n",
       "2674      rare     *         *  1993-10-04  \n",
       "2727      rare     *         *  1993-08-05  \n",
       "2745  uncommon     *         *  1993-08-05  \n",
       "2765    common     *         *  1993-08-05  \n",
       "2766      rare     *         *  1993-08-05  \n",
       "\n",
       "[79 rows x 12 columns]"
      ]
     },
     "execution_count": 72,
     "metadata": {},
     "output_type": "execute_result"
    }
   ],
   "source": [
    "# creatures that have '*' in their power and/or toughness\n",
    "peculiar_creatures = sc[(sc[\"power\"].str.contains('\\*')) | (sc[\"toughness\"].str.contains('\\*'))]\n",
    "peculiar_creatures"
   ]
  },
  {
   "cell_type": "code",
   "execution_count": 73,
   "metadata": {},
   "outputs": [
    {
     "data": {
      "text/plain": [
       "5ed    8\n",
       "4ed    7\n",
       "10e    7\n",
       "7ed    6\n",
       "9ed    6\n",
       "8ed    5\n",
       "3ed    5\n",
       "sum    5\n",
       "leb    4\n",
       "lea    4\n",
       "6ed    4\n",
       "2ed    4\n",
       "m13    3\n",
       "m15    2\n",
       "ori    2\n",
       "m12    2\n",
       "m10    2\n",
       "m20    1\n",
       "m19    1\n",
       "m14    1\n",
       "Name: set, dtype: int64"
      ]
     },
     "execution_count": 73,
     "metadata": {},
     "output_type": "execute_result"
    }
   ],
   "source": [
    "peculiar_creatures[\"set\"].value_counts()"
   ]
  },
  {
   "cell_type": "markdown",
   "metadata": {},
   "source": [
    "There are 79 creatures that have a dynamic power and/or toughness. There are too many to estimate one by one, we will drop them. They are not concentrated on a few sets, so it will not impact the analysis in a significant way.\n",
    "It represents 79/2801 = 2.82% of the rows.\n",
    "We drop them:"
   ]
  },
  {
   "cell_type": "code",
   "execution_count": 74,
   "metadata": {},
   "outputs": [
    {
     "data": {
      "text/plain": [
       "(2722, 12)"
      ]
     },
     "execution_count": 74,
     "metadata": {},
     "output_type": "execute_result"
    }
   ],
   "source": [
    "sc.drop(peculiar_creatures.index, inplace = True)\n",
    "sc.shape"
   ]
  },
  {
   "cell_type": "code",
   "execution_count": 75,
   "metadata": {},
   "outputs": [
    {
     "data": {
      "text/html": [
       "<div>\n",
       "<style scoped>\n",
       "    .dataframe tbody tr th:only-of-type {\n",
       "        vertical-align: middle;\n",
       "    }\n",
       "\n",
       "    .dataframe tbody tr th {\n",
       "        vertical-align: top;\n",
       "    }\n",
       "\n",
       "    .dataframe thead th {\n",
       "        text-align: right;\n",
       "    }\n",
       "</style>\n",
       "<table border=\"1\" class=\"dataframe\">\n",
       "  <thead>\n",
       "    <tr style=\"text-align: right;\">\n",
       "      <th></th>\n",
       "      <th>id</th>\n",
       "      <th>name</th>\n",
       "      <th>mana_cost</th>\n",
       "      <th>cmc</th>\n",
       "      <th>type_line</th>\n",
       "      <th>colors</th>\n",
       "      <th>set</th>\n",
       "      <th>set_name</th>\n",
       "      <th>rarity</th>\n",
       "      <th>power</th>\n",
       "      <th>toughness</th>\n",
       "      <th>released_at</th>\n",
       "    </tr>\n",
       "  </thead>\n",
       "  <tbody>\n",
       "    <tr>\n",
       "      <td>155</td>\n",
       "      <td>7b215968-93a6-4278-ac61-4e3e8c3c3943</td>\n",
       "      <td>Nicol Bolas, the Ravager // Nicol Bolas, the A...</td>\n",
       "      <td>NaN</td>\n",
       "      <td>4</td>\n",
       "      <td>Legendary Creature: Elder Dragon // Legendary ...</td>\n",
       "      <td>NaN</td>\n",
       "      <td>m19</td>\n",
       "      <td>Core Set 2019</td>\n",
       "      <td>mythic</td>\n",
       "      <td>NaN</td>\n",
       "      <td>NaN</td>\n",
       "      <td>2018-07-13</td>\n",
       "    </tr>\n",
       "    <tr>\n",
       "      <td>315</td>\n",
       "      <td>ff0063da-ab6b-499d-8e87-8b34d46f0372</td>\n",
       "      <td>Nissa, Vastwood Seer // Nissa, Sage Animist</td>\n",
       "      <td>NaN</td>\n",
       "      <td>3</td>\n",
       "      <td>Legendary Creature: Elf Scout // Legendary Pla...</td>\n",
       "      <td>NaN</td>\n",
       "      <td>ori</td>\n",
       "      <td>Magic Origins</td>\n",
       "      <td>mythic</td>\n",
       "      <td>NaN</td>\n",
       "      <td>NaN</td>\n",
       "      <td>2015-07-17</td>\n",
       "    </tr>\n",
       "    <tr>\n",
       "      <td>344</td>\n",
       "      <td>b0d6caf0-4fa8-4ec5-b7f4-1307474d1b13</td>\n",
       "      <td>Chandra, Fire of Kaladesh // Chandra, Roaring ...</td>\n",
       "      <td>NaN</td>\n",
       "      <td>3</td>\n",
       "      <td>Legendary Creature: Human Shaman // Legendary ...</td>\n",
       "      <td>NaN</td>\n",
       "      <td>ori</td>\n",
       "      <td>Magic Origins</td>\n",
       "      <td>mythic</td>\n",
       "      <td>NaN</td>\n",
       "      <td>NaN</td>\n",
       "      <td>2015-07-17</td>\n",
       "    </tr>\n",
       "    <tr>\n",
       "      <td>360</td>\n",
       "      <td>9f25e1cf-eeb4-458d-8fb2-b3a2f86bdd54</td>\n",
       "      <td>Liliana, Heretical Healer // Liliana, Defiant ...</td>\n",
       "      <td>NaN</td>\n",
       "      <td>3</td>\n",
       "      <td>Legendary Creature: Human Cleric // Legendary ...</td>\n",
       "      <td>NaN</td>\n",
       "      <td>ori</td>\n",
       "      <td>Magic Origins</td>\n",
       "      <td>mythic</td>\n",
       "      <td>NaN</td>\n",
       "      <td>NaN</td>\n",
       "      <td>2015-07-17</td>\n",
       "    </tr>\n",
       "    <tr>\n",
       "      <td>388</td>\n",
       "      <td>02d6d693-f1f3-4317-bcc0-c21fa8490d38</td>\n",
       "      <td>Jace, Vryn's Prodigy // Jace, Telepath Unbound</td>\n",
       "      <td>NaN</td>\n",
       "      <td>2</td>\n",
       "      <td>Legendary Creature: Human Wizard // Legendary ...</td>\n",
       "      <td>NaN</td>\n",
       "      <td>ori</td>\n",
       "      <td>Magic Origins</td>\n",
       "      <td>mythic</td>\n",
       "      <td>NaN</td>\n",
       "      <td>NaN</td>\n",
       "      <td>2015-07-17</td>\n",
       "    </tr>\n",
       "    <tr>\n",
       "      <td>405</td>\n",
       "      <td>58c39df6-b237-40d1-bdcb-2fe5d05392a9</td>\n",
       "      <td>Kytheon, Hero of Akros // Gideon, Battle-Forged</td>\n",
       "      <td>NaN</td>\n",
       "      <td>1</td>\n",
       "      <td>Legendary Creature: Human Soldier // Legendary...</td>\n",
       "      <td>NaN</td>\n",
       "      <td>ori</td>\n",
       "      <td>Magic Origins</td>\n",
       "      <td>mythic</td>\n",
       "      <td>NaN</td>\n",
       "      <td>NaN</td>\n",
       "      <td>2015-07-17</td>\n",
       "    </tr>\n",
       "  </tbody>\n",
       "</table>\n",
       "</div>"
      ],
      "text/plain": [
       "                                       id  \\\n",
       "155  7b215968-93a6-4278-ac61-4e3e8c3c3943   \n",
       "315  ff0063da-ab6b-499d-8e87-8b34d46f0372   \n",
       "344  b0d6caf0-4fa8-4ec5-b7f4-1307474d1b13   \n",
       "360  9f25e1cf-eeb4-458d-8fb2-b3a2f86bdd54   \n",
       "388  02d6d693-f1f3-4317-bcc0-c21fa8490d38   \n",
       "405  58c39df6-b237-40d1-bdcb-2fe5d05392a9   \n",
       "\n",
       "                                                  name mana_cost  cmc  \\\n",
       "155  Nicol Bolas, the Ravager // Nicol Bolas, the A...       NaN    4   \n",
       "315        Nissa, Vastwood Seer // Nissa, Sage Animist       NaN    3   \n",
       "344  Chandra, Fire of Kaladesh // Chandra, Roaring ...       NaN    3   \n",
       "360  Liliana, Heretical Healer // Liliana, Defiant ...       NaN    3   \n",
       "388     Jace, Vryn's Prodigy // Jace, Telepath Unbound       NaN    2   \n",
       "405    Kytheon, Hero of Akros // Gideon, Battle-Forged       NaN    1   \n",
       "\n",
       "                                             type_line colors  set  \\\n",
       "155  Legendary Creature: Elder Dragon // Legendary ...    NaN  m19   \n",
       "315  Legendary Creature: Elf Scout // Legendary Pla...    NaN  ori   \n",
       "344  Legendary Creature: Human Shaman // Legendary ...    NaN  ori   \n",
       "360  Legendary Creature: Human Cleric // Legendary ...    NaN  ori   \n",
       "388  Legendary Creature: Human Wizard // Legendary ...    NaN  ori   \n",
       "405  Legendary Creature: Human Soldier // Legendary...    NaN  ori   \n",
       "\n",
       "          set_name  rarity power toughness released_at  \n",
       "155  Core Set 2019  mythic   NaN       NaN  2018-07-13  \n",
       "315  Magic Origins  mythic   NaN       NaN  2015-07-17  \n",
       "344  Magic Origins  mythic   NaN       NaN  2015-07-17  \n",
       "360  Magic Origins  mythic   NaN       NaN  2015-07-17  \n",
       "388  Magic Origins  mythic   NaN       NaN  2015-07-17  \n",
       "405  Magic Origins  mythic   NaN       NaN  2015-07-17  "
      ]
     },
     "execution_count": 75,
     "metadata": {},
     "output_type": "execute_result"
    }
   ],
   "source": [
    "# creatures that have a np.nan power and/or toughness\n",
    "nan_stat_creatures = sc[(sc[\"power\"].isnull()) | (sc[\"toughness\"].isnull())]\n",
    "nan_stat_creatures"
   ]
  },
  {
   "cell_type": "markdown",
   "metadata": {},
   "source": [
    "These 6 creatures are double-faced cards, with one side being a creature, and the other a planeswalker."
   ]
  },
  {
   "cell_type": "code",
   "execution_count": 76,
   "metadata": {},
   "outputs": [
    {
     "data": {
      "text/html": [
       "<div>\n",
       "<style scoped>\n",
       "    .dataframe tbody tr th:only-of-type {\n",
       "        vertical-align: middle;\n",
       "    }\n",
       "\n",
       "    .dataframe tbody tr th {\n",
       "        vertical-align: top;\n",
       "    }\n",
       "\n",
       "    .dataframe thead th {\n",
       "        text-align: right;\n",
       "    }\n",
       "</style>\n",
       "<table border=\"1\" class=\"dataframe\">\n",
       "  <thead>\n",
       "    <tr style=\"text-align: right;\">\n",
       "      <th></th>\n",
       "      <th>id</th>\n",
       "      <th>name</th>\n",
       "      <th>mana_cost</th>\n",
       "      <th>cmc</th>\n",
       "      <th>type_line</th>\n",
       "      <th>colors</th>\n",
       "      <th>set</th>\n",
       "      <th>set_name</th>\n",
       "      <th>rarity</th>\n",
       "      <th>power</th>\n",
       "      <th>toughness</th>\n",
       "      <th>released_at</th>\n",
       "    </tr>\n",
       "  </thead>\n",
       "  <tbody>\n",
       "    <tr>\n",
       "      <td>7035</td>\n",
       "      <td>6ab66344-4959-4c7b-8828-b1a89b274e0b</td>\n",
       "      <td>Nicol Bolas, the Ravager // Nicol Bolas, the A...</td>\n",
       "      <td>NaN</td>\n",
       "      <td>4.0</td>\n",
       "      <td>Legendary Creature: Elder Dragon // Legendary ...</td>\n",
       "      <td>NaN</td>\n",
       "      <td>pm19</td>\n",
       "      <td>Core Set 2019 Promos</td>\n",
       "      <td>mythic</td>\n",
       "      <td>NaN</td>\n",
       "      <td>NaN</td>\n",
       "      <td>2018-07-13</td>\n",
       "    </tr>\n",
       "    <tr>\n",
       "      <td>7233</td>\n",
       "      <td>7b215968-93a6-4278-ac61-4e3e8c3c3943</td>\n",
       "      <td>Nicol Bolas, the Ravager // Nicol Bolas, the A...</td>\n",
       "      <td>NaN</td>\n",
       "      <td>4.0</td>\n",
       "      <td>Legendary Creature: Elder Dragon // Legendary ...</td>\n",
       "      <td>NaN</td>\n",
       "      <td>m19</td>\n",
       "      <td>Core Set 2019</td>\n",
       "      <td>mythic</td>\n",
       "      <td>NaN</td>\n",
       "      <td>NaN</td>\n",
       "      <td>2018-07-13</td>\n",
       "    </tr>\n",
       "  </tbody>\n",
       "</table>\n",
       "</div>"
      ],
      "text/plain": [
       "                                        id  \\\n",
       "7035  6ab66344-4959-4c7b-8828-b1a89b274e0b   \n",
       "7233  7b215968-93a6-4278-ac61-4e3e8c3c3943   \n",
       "\n",
       "                                                   name mana_cost  cmc  \\\n",
       "7035  Nicol Bolas, the Ravager // Nicol Bolas, the A...       NaN  4.0   \n",
       "7233  Nicol Bolas, the Ravager // Nicol Bolas, the A...       NaN  4.0   \n",
       "\n",
       "                                              type_line colors   set  \\\n",
       "7035  Legendary Creature: Elder Dragon // Legendary ...    NaN  pm19   \n",
       "7233  Legendary Creature: Elder Dragon // Legendary ...    NaN   m19   \n",
       "\n",
       "                  set_name  rarity power toughness released_at  \n",
       "7035  Core Set 2019 Promos  mythic   NaN       NaN  2018-07-13  \n",
       "7233         Core Set 2019  mythic   NaN       NaN  2018-07-13  "
      ]
     },
     "execution_count": 76,
     "metadata": {},
     "output_type": "execute_result"
    }
   ],
   "source": [
    "# we like in the non-narrowed df to see if we can find the power and toughness for these creatures\n",
    "df[df[\"name\"].str.contains(\"Nicol Bolas, the Ravager\")][relevant_columns]"
   ]
  },
  {
   "cell_type": "markdown",
   "metadata": {},
   "source": [
    "It looks like that the complete list of cards contains 2 cards for each double-faced cards, but none have power or touhness values.\n",
    "We will drop these rows:"
   ]
  },
  {
   "cell_type": "code",
   "execution_count": 77,
   "metadata": {},
   "outputs": [
    {
     "data": {
      "text/plain": [
       "(2716, 12)"
      ]
     },
     "execution_count": 77,
     "metadata": {},
     "output_type": "execute_result"
    }
   ],
   "source": [
    "sc.drop(nan_stat_creatures.index, inplace = True)\n",
    "sc.shape"
   ]
  },
  {
   "cell_type": "markdown",
   "metadata": {},
   "source": [
    "Now we can convert the 'power' and 'toughness' columns:"
   ]
  },
  {
   "cell_type": "code",
   "execution_count": 78,
   "metadata": {},
   "outputs": [
    {
     "data": {
      "text/plain": [
       "id                     object\n",
       "name                   object\n",
       "mana_cost              object\n",
       "cmc                     int32\n",
       "type_line              object\n",
       "colors                 object\n",
       "set                    object\n",
       "set_name               object\n",
       "rarity                 object\n",
       "power                   int32\n",
       "toughness               int32\n",
       "released_at    datetime64[ns]\n",
       "dtype: object"
      ]
     },
     "execution_count": 78,
     "metadata": {},
     "output_type": "execute_result"
    }
   ],
   "source": [
    "sc[\"power\"] = sc[\"power\"].astype(int)\n",
    "sc[\"toughness\"] = sc[\"toughness\"].astype(int)\n",
    "sc.dtypes"
   ]
  },
  {
   "cell_type": "markdown",
   "metadata": {},
   "source": [
    "### Checking for other NaN values"
   ]
  },
  {
   "cell_type": "code",
   "execution_count": 79,
   "metadata": {},
   "outputs": [
    {
     "data": {
      "text/plain": [
       "id             0\n",
       "name           0\n",
       "mana_cost      0\n",
       "cmc            0\n",
       "type_line      0\n",
       "colors         0\n",
       "set            0\n",
       "set_name       0\n",
       "rarity         0\n",
       "power          0\n",
       "toughness      0\n",
       "released_at    0\n",
       "dtype: int64"
      ]
     },
     "execution_count": 79,
     "metadata": {},
     "output_type": "execute_result"
    }
   ],
   "source": [
    "sc.isnull().sum()"
   ]
  },
  {
   "cell_type": "markdown",
   "metadata": {},
   "source": [
    "There are no NaN values left."
   ]
  },
  {
   "cell_type": "markdown",
   "metadata": {},
   "source": [
    "### Checking for outliers or unexploitable values"
   ]
  },
  {
   "cell_type": "code",
   "execution_count": 80,
   "metadata": {},
   "outputs": [
    {
     "data": {
      "text/plain": [
       "0      7.695140\n",
       "1     25.478645\n",
       "2     32.069219\n",
       "3     13.991163\n",
       "4      9.020619\n",
       "5      5.559647\n",
       "6      3.534610\n",
       "7      1.472754\n",
       "8      0.773196\n",
       "9      0.220913\n",
       "10     0.110457\n",
       "11     0.073638\n",
       "Name: power, dtype: float64"
      ]
     },
     "execution_count": 80,
     "metadata": {},
     "output_type": "execute_result"
    }
   ],
   "source": [
    "# power value distribution in %\n",
    "sc[\"power\"].value_counts(normalize = True).sort_index() * 100"
   ]
  },
  {
   "cell_type": "code",
   "execution_count": 81,
   "metadata": {},
   "outputs": [
    {
     "data": {
      "text/plain": [
       "0      1.325479\n",
       "1     27.172312\n",
       "2     25.147275\n",
       "3     18.372607\n",
       "4     12.665685\n",
       "5      7.511046\n",
       "6      4.344624\n",
       "7      1.951399\n",
       "8      1.030928\n",
       "9      0.294551\n",
       "10     0.110457\n",
       "11     0.073638\n",
       "Name: toughness, dtype: float64"
      ]
     },
     "execution_count": 81,
     "metadata": {},
     "output_type": "execute_result"
    }
   ],
   "source": [
    "# toughness value distribution in %\n",
    "sc[\"toughness\"].value_counts(normalize = True).sort_index() * 100"
   ]
  },
  {
   "cell_type": "markdown",
   "metadata": {},
   "source": [
    "We note that 1.33% of creatures have a toughness of 0, which we should investigate (as a creature with 0 power dies instantly)"
   ]
  },
  {
   "cell_type": "code",
   "execution_count": 87,
   "metadata": {},
   "outputs": [
    {
     "data": {
      "text/plain": [
       "(36, 12)"
      ]
     },
     "execution_count": 87,
     "metadata": {},
     "output_type": "execute_result"
    }
   ],
   "source": [
    "no_toughness = sc[sc[\"toughness\"] == 0]\n",
    "no_toughness.shape"
   ]
  },
  {
   "cell_type": "code",
   "execution_count": 88,
   "metadata": {},
   "outputs": [
    {
     "data": {
      "text/html": [
       "<div>\n",
       "<style scoped>\n",
       "    .dataframe tbody tr th:only-of-type {\n",
       "        vertical-align: middle;\n",
       "    }\n",
       "\n",
       "    .dataframe tbody tr th {\n",
       "        vertical-align: top;\n",
       "    }\n",
       "\n",
       "    .dataframe thead th {\n",
       "        text-align: right;\n",
       "    }\n",
       "</style>\n",
       "<table border=\"1\" class=\"dataframe\">\n",
       "  <thead>\n",
       "    <tr style=\"text-align: right;\">\n",
       "      <th></th>\n",
       "      <th>id</th>\n",
       "      <th>name</th>\n",
       "      <th>mana_cost</th>\n",
       "      <th>cmc</th>\n",
       "      <th>type_line</th>\n",
       "      <th>colors</th>\n",
       "      <th>set</th>\n",
       "      <th>set_name</th>\n",
       "      <th>rarity</th>\n",
       "      <th>power</th>\n",
       "      <th>toughness</th>\n",
       "      <th>released_at</th>\n",
       "    </tr>\n",
       "  </thead>\n",
       "  <tbody>\n",
       "    <tr>\n",
       "      <td>87</td>\n",
       "      <td>77972745-8689-4733-9a9d-39ae9d6273a2</td>\n",
       "      <td>Embodiment of Agonies</td>\n",
       "      <td>{1}{B}{B}</td>\n",
       "      <td>3</td>\n",
       "      <td>Creature: Demon</td>\n",
       "      <td>[B]</td>\n",
       "      <td>m20</td>\n",
       "      <td>Core Set 2020</td>\n",
       "      <td>rare</td>\n",
       "      <td>0</td>\n",
       "      <td>0</td>\n",
       "      <td>2019-07-12</td>\n",
       "    </tr>\n",
       "    <tr>\n",
       "      <td>171</td>\n",
       "      <td>84127b83-e75a-4f12-92ca-46f50bb89699</td>\n",
       "      <td>Hungering Hydra</td>\n",
       "      <td>{X}{G}</td>\n",
       "      <td>1</td>\n",
       "      <td>Creature: Hydra</td>\n",
       "      <td>[G]</td>\n",
       "      <td>m19</td>\n",
       "      <td>Core Set 2019</td>\n",
       "      <td>rare</td>\n",
       "      <td>0</td>\n",
       "      <td>0</td>\n",
       "      <td>2018-07-13</td>\n",
       "    </tr>\n",
       "    <tr>\n",
       "      <td>248</td>\n",
       "      <td>5b3ffc69-f21b-410e-8993-8c1b4669fc19</td>\n",
       "      <td>Mirror Image</td>\n",
       "      <td>{2}{U}</td>\n",
       "      <td>3</td>\n",
       "      <td>Creature: Shapeshifter</td>\n",
       "      <td>[U]</td>\n",
       "      <td>m19</td>\n",
       "      <td>Core Set 2019</td>\n",
       "      <td>uncommon</td>\n",
       "      <td>0</td>\n",
       "      <td>0</td>\n",
       "      <td>2018-07-13</td>\n",
       "    </tr>\n",
       "    <tr>\n",
       "      <td>286</td>\n",
       "      <td>791c21fb-fc78-4106-9a42-abc73f41ab8b</td>\n",
       "      <td>Hangarback Walker</td>\n",
       "      <td>{X}{X}</td>\n",
       "      <td>0</td>\n",
       "      <td>Artifact Creature: Construct</td>\n",
       "      <td>[]</td>\n",
       "      <td>ori</td>\n",
       "      <td>Magic Origins</td>\n",
       "      <td>rare</td>\n",
       "      <td>0</td>\n",
       "      <td>0</td>\n",
       "      <td>2015-07-17</td>\n",
       "    </tr>\n",
       "    <tr>\n",
       "      <td>433</td>\n",
       "      <td>4f8dc77e-f003-4c25-8394-cda22e3ea039</td>\n",
       "      <td>Undergrowth Scavenger</td>\n",
       "      <td>{3}{G}</td>\n",
       "      <td>4</td>\n",
       "      <td>Creature: Fungus Horror</td>\n",
       "      <td>[G]</td>\n",
       "      <td>m15</td>\n",
       "      <td>Magic 2015</td>\n",
       "      <td>common</td>\n",
       "      <td>0</td>\n",
       "      <td>0</td>\n",
       "      <td>2014-07-18</td>\n",
       "    </tr>\n",
       "  </tbody>\n",
       "</table>\n",
       "</div>"
      ],
      "text/plain": [
       "                                       id                   name  mana_cost  \\\n",
       "87   77972745-8689-4733-9a9d-39ae9d6273a2  Embodiment of Agonies  {1}{B}{B}   \n",
       "171  84127b83-e75a-4f12-92ca-46f50bb89699        Hungering Hydra     {X}{G}   \n",
       "248  5b3ffc69-f21b-410e-8993-8c1b4669fc19           Mirror Image     {2}{U}   \n",
       "286  791c21fb-fc78-4106-9a42-abc73f41ab8b      Hangarback Walker     {X}{X}   \n",
       "433  4f8dc77e-f003-4c25-8394-cda22e3ea039  Undergrowth Scavenger     {3}{G}   \n",
       "\n",
       "     cmc                     type_line colors  set       set_name    rarity  \\\n",
       "87     3               Creature: Demon    [B]  m20  Core Set 2020      rare   \n",
       "171    1               Creature: Hydra    [G]  m19  Core Set 2019      rare   \n",
       "248    3        Creature: Shapeshifter    [U]  m19  Core Set 2019  uncommon   \n",
       "286    0  Artifact Creature: Construct     []  ori  Magic Origins      rare   \n",
       "433    4       Creature: Fungus Horror    [G]  m15     Magic 2015    common   \n",
       "\n",
       "     power  toughness released_at  \n",
       "87       0          0  2019-07-12  \n",
       "171      0          0  2018-07-13  \n",
       "248      0          0  2018-07-13  \n",
       "286      0          0  2015-07-17  \n",
       "433      0          0  2014-07-18  "
      ]
     },
     "execution_count": 88,
     "metadata": {},
     "output_type": "execute_result"
    }
   ],
   "source": [
    "no_toughness.head()"
   ]
  },
  {
   "cell_type": "markdown",
   "metadata": {},
   "source": [
    "These creatures all have a variable power and/or toughness. We can't exploit them for our analysis, so we will drop them. They represent only 1.33% of our rows."
   ]
  },
  {
   "cell_type": "code",
   "execution_count": 89,
   "metadata": {},
   "outputs": [
    {
     "data": {
      "text/plain": [
       "(2680, 12)"
      ]
     },
     "execution_count": 89,
     "metadata": {},
     "output_type": "execute_result"
    }
   ],
   "source": [
    "sc.drop(no_toughness.index, inplace = True)\n",
    "sc.shape"
   ]
  },
  {
   "cell_type": "code",
   "execution_count": 90,
   "metadata": {},
   "outputs": [
    {
     "data": {
      "text/plain": [
       "(173, 12)"
      ]
     },
     "execution_count": 90,
     "metadata": {},
     "output_type": "execute_result"
    }
   ],
   "source": [
    "no_power = sc[sc[\"power\"] == 0]\n",
    "no_power.shape"
   ]
  },
  {
   "cell_type": "code",
   "execution_count": 92,
   "metadata": {},
   "outputs": [
    {
     "data": {
      "text/plain": [
       "array(['Creature: Hydra', 'Creature: Elemental Druid', 'Creature: Wolf',\n",
       "       'Creature: Ox', 'Artifact Creature: Wall', 'Creature: Plant Wall',\n",
       "       'Creature: Dragon Egg', 'Creature: Vampire', 'Creature: Wall',\n",
       "       'Creature: Horse Fish', 'Artifact Creature: Golem',\n",
       "       'Creature: Starfish', 'Creature: Illusion Wall',\n",
       "       'Artifact Creature: Thopter', 'Creature: Insect',\n",
       "       'Creature: Zombie Wall', 'Creature: Dragon',\n",
       "       'Artifact Creature: Construct', 'Creature: Skeleton',\n",
       "       'Creature: Kraken', 'Creature: Human Soldier', 'Creature: Bird',\n",
       "       'Creature: Bird Egg', 'Creature: Cat Monk',\n",
       "       'Creature: Human Druid', 'Creature: Elemental',\n",
       "       'Creature: Human Cleric', 'Creature: Bat', 'Creature: Plant',\n",
       "       'Creature: Spirit', 'Creature: Human Cleric Shaman',\n",
       "       'Artifact Creature: Horse', 'Artifact Creature: Beast',\n",
       "       'Creature: Wombat', 'Creature: Shade', 'Creature: Merfolk',\n",
       "       'Artifact Creature: Bird', 'Creature: Human Wizard'], dtype=object)"
      ]
     },
     "execution_count": 92,
     "metadata": {},
     "output_type": "execute_result"
    }
   ],
   "source": [
    "no_power[\"type_line\"].unique()"
   ]
  },
  {
   "cell_type": "code",
   "execution_count": 94,
   "metadata": {},
   "outputs": [
    {
     "data": {
      "text/html": [
       "<div>\n",
       "<style scoped>\n",
       "    .dataframe tbody tr th:only-of-type {\n",
       "        vertical-align: middle;\n",
       "    }\n",
       "\n",
       "    .dataframe tbody tr th {\n",
       "        vertical-align: top;\n",
       "    }\n",
       "\n",
       "    .dataframe thead th {\n",
       "        text-align: right;\n",
       "    }\n",
       "</style>\n",
       "<table border=\"1\" class=\"dataframe\">\n",
       "  <thead>\n",
       "    <tr style=\"text-align: right;\">\n",
       "      <th></th>\n",
       "      <th>id</th>\n",
       "      <th>name</th>\n",
       "      <th>mana_cost</th>\n",
       "      <th>cmc</th>\n",
       "      <th>type_line</th>\n",
       "      <th>colors</th>\n",
       "      <th>set</th>\n",
       "      <th>set_name</th>\n",
       "      <th>rarity</th>\n",
       "      <th>power</th>\n",
       "      <th>toughness</th>\n",
       "      <th>released_at</th>\n",
       "    </tr>\n",
       "  </thead>\n",
       "  <tbody>\n",
       "    <tr>\n",
       "      <td>2734</td>\n",
       "      <td>140e567c-6e4a-42b0-8084-d6c9695ae802</td>\n",
       "      <td>Wall of Stone</td>\n",
       "      <td>{1}{R}{R}</td>\n",
       "      <td>3</td>\n",
       "      <td>Creature: Wall</td>\n",
       "      <td>[R]</td>\n",
       "      <td>lea</td>\n",
       "      <td>Limited Edition Alpha</td>\n",
       "      <td>uncommon</td>\n",
       "      <td>0</td>\n",
       "      <td>8</td>\n",
       "      <td>1993-08-05</td>\n",
       "    </tr>\n",
       "    <tr>\n",
       "      <td>2735</td>\n",
       "      <td>efcf12cd-fb70-444e-9641-73ffa0e8f16e</td>\n",
       "      <td>Wall of Fire</td>\n",
       "      <td>{1}{R}{R}</td>\n",
       "      <td>3</td>\n",
       "      <td>Creature: Wall</td>\n",
       "      <td>[R]</td>\n",
       "      <td>lea</td>\n",
       "      <td>Limited Edition Alpha</td>\n",
       "      <td>uncommon</td>\n",
       "      <td>0</td>\n",
       "      <td>5</td>\n",
       "      <td>1993-08-05</td>\n",
       "    </tr>\n",
       "    <tr>\n",
       "      <td>2759</td>\n",
       "      <td>a1a6f8e9-7bc1-4151-b55f-acf877b1a7a6</td>\n",
       "      <td>Will-o'-the-Wisp</td>\n",
       "      <td>{B}</td>\n",
       "      <td>1</td>\n",
       "      <td>Creature: Spirit</td>\n",
       "      <td>[B]</td>\n",
       "      <td>lea</td>\n",
       "      <td>Limited Edition Alpha</td>\n",
       "      <td>rare</td>\n",
       "      <td>0</td>\n",
       "      <td>1</td>\n",
       "      <td>1993-08-05</td>\n",
       "    </tr>\n",
       "    <tr>\n",
       "      <td>2771</td>\n",
       "      <td>d0bd76c8-4cff-4c15-9686-7a299b589814</td>\n",
       "      <td>Frozen Shade</td>\n",
       "      <td>{2}{B}</td>\n",
       "      <td>3</td>\n",
       "      <td>Creature: Shade</td>\n",
       "      <td>[B]</td>\n",
       "      <td>lea</td>\n",
       "      <td>Limited Edition Alpha</td>\n",
       "      <td>common</td>\n",
       "      <td>0</td>\n",
       "      <td>1</td>\n",
       "      <td>1993-08-05</td>\n",
       "    </tr>\n",
       "    <tr>\n",
       "      <td>2777</td>\n",
       "      <td>41faed1a-ded8-49ee-8e2a-c60d377775d7</td>\n",
       "      <td>Wall of Water</td>\n",
       "      <td>{1}{U}{U}</td>\n",
       "      <td>3</td>\n",
       "      <td>Creature: Wall</td>\n",
       "      <td>[U]</td>\n",
       "      <td>lea</td>\n",
       "      <td>Limited Edition Alpha</td>\n",
       "      <td>uncommon</td>\n",
       "      <td>0</td>\n",
       "      <td>5</td>\n",
       "      <td>1993-08-05</td>\n",
       "    </tr>\n",
       "  </tbody>\n",
       "</table>\n",
       "</div>"
      ],
      "text/plain": [
       "                                        id              name  mana_cost  cmc  \\\n",
       "2734  140e567c-6e4a-42b0-8084-d6c9695ae802     Wall of Stone  {1}{R}{R}    3   \n",
       "2735  efcf12cd-fb70-444e-9641-73ffa0e8f16e      Wall of Fire  {1}{R}{R}    3   \n",
       "2759  a1a6f8e9-7bc1-4151-b55f-acf877b1a7a6  Will-o'-the-Wisp        {B}    1   \n",
       "2771  d0bd76c8-4cff-4c15-9686-7a299b589814      Frozen Shade     {2}{B}    3   \n",
       "2777  41faed1a-ded8-49ee-8e2a-c60d377775d7     Wall of Water  {1}{U}{U}    3   \n",
       "\n",
       "             type_line colors  set               set_name    rarity  power  \\\n",
       "2734    Creature: Wall    [R]  lea  Limited Edition Alpha  uncommon      0   \n",
       "2735    Creature: Wall    [R]  lea  Limited Edition Alpha  uncommon      0   \n",
       "2759  Creature: Spirit    [B]  lea  Limited Edition Alpha      rare      0   \n",
       "2771   Creature: Shade    [B]  lea  Limited Edition Alpha    common      0   \n",
       "2777    Creature: Wall    [U]  lea  Limited Edition Alpha  uncommon      0   \n",
       "\n",
       "      toughness released_at  \n",
       "2734          8  1993-08-05  \n",
       "2735          5  1993-08-05  \n",
       "2759          1  1993-08-05  \n",
       "2771          1  1993-08-05  \n",
       "2777          5  1993-08-05  "
      ]
     },
     "execution_count": 94,
     "metadata": {},
     "output_type": "execute_result"
    }
   ],
   "source": [
    "no_power.head()"
   ]
  },
  {
   "cell_type": "markdown",
   "metadata": {},
   "source": [
    "We note that creatures with a power of 0 fall into 3 categories:\n",
    "* creatures with variable stats (power & toughness) that are defined with a 'X' in the mana cost (unexploitable)\n",
    "* creatures with a legitimate power of 0, most of them being walls (exploitable)\n",
    "\n",
    "We will then proceed to drop any creature with a 'X' in the mana cost, as they are not exploitable.\n",
    "By doing this, we will keep some creatures that have stats defined by something else in their rules text, but it would be too complicated to narrow them."
   ]
  },
  {
   "cell_type": "code",
   "execution_count": 95,
   "metadata": {},
   "outputs": [
    {
     "data": {
      "text/plain": [
       "(1, 12)"
      ]
     },
     "execution_count": 95,
     "metadata": {},
     "output_type": "execute_result"
    }
   ],
   "source": [
    "creatures_with_x = sc[sc[\"mana_cost\"].str.contains('X')]\n",
    "creatures_with_x.shape"
   ]
  },
  {
   "cell_type": "code",
   "execution_count": 97,
   "metadata": {},
   "outputs": [
    {
     "data": {
      "text/plain": [
       "(2679, 12)"
      ]
     },
     "execution_count": 97,
     "metadata": {},
     "output_type": "execute_result"
    }
   ],
   "source": [
    "sc.drop(creatures_with_x.index, inplace = True)\n",
    "sc.shape"
   ]
  },
  {
   "cell_type": "markdown",
   "metadata": {},
   "source": [
    "## Creating a complete dataframe for our analysis\n",
    "For our analysis, we would like to build a dataframe containing everything we need.\n",
    "Each row will be set, and for each set we will have the following informations:\n",
    "* code: set code\n",
    "* name: set full name\n",
    "* release: release date\n",
    "* display_str: a string containing the set code and date for our plots\n",
    "* avg_cmc: avg cmc of creatures in this set\n",
    "* avg_power: avg power of creatures in this set\n",
    "* avg_toughness: avg toughness of creatures in this set\n",
    "* avg_effectiveness: positive or negative percentage translating how much better or worse the stats of an average creature of this set is compared to what is expected. The expected stats of a creature is calculated as the average stats of a creature with this exact mana cost in any core set.\n",
    "\n",
    "In order to build thid dataframe, we will first need to add some columns to our 'sc' dataframe:\n",
    "* stats: sum of the power & toughness\n",
    "* expected_stats: expected stats for a creature of this exact mana cost (calculated from the average in core sets)\n",
    "* effectiveness: positive or negative percentage translating how much better or worse the stats of this creature are compare to it's expected stats"
   ]
  },
  {
   "cell_type": "markdown",
   "metadata": {},
   "source": [
    "### Adding the \"stats\"column\n",
    "It is simply the sum of the power & toughness"
   ]
  },
  {
   "cell_type": "code",
   "execution_count": 99,
   "metadata": {},
   "outputs": [
    {
     "data": {
      "text/plain": [
       "1      1.754386\n",
       "2     19.335573\n",
       "3      8.771930\n",
       "4     23.889511\n",
       "5      9.779769\n",
       "6     11.944756\n",
       "7      4.441956\n",
       "8      7.390817\n",
       "9      2.351624\n",
       "10     4.180664\n",
       "11     1.194476\n",
       "12     2.239642\n",
       "13     0.298619\n",
       "14     1.306458\n",
       "15     0.074655\n",
       "16     0.634565\n",
       "18     0.223964\n",
       "20     0.111982\n",
       "22     0.074655\n",
       "Name: stats, dtype: float64"
      ]
     },
     "execution_count": 99,
     "metadata": {},
     "output_type": "execute_result"
    }
   ],
   "source": [
    "sc[\"stats\"] = sc[\"power\"] + sc[\"toughness\"]\n",
    "sc[\"stats\"].value_counts(normalize = True).sort_index() * 100"
   ]
  },
  {
   "cell_type": "markdown",
   "metadata": {},
   "source": [
    "We note that there are significantly more cards with even stats than odd stats. That is probably due to the fact that square stats (power and toughness are equal) are easier to process, so are prefered to unsquare stats."
   ]
  },
  {
   "cell_type": "code",
   "execution_count": 103,
   "metadata": {},
   "outputs": [
    {
     "data": {
      "text/plain": [
       "2.48828125"
      ]
     },
     "execution_count": 103,
     "metadata": {},
     "output_type": "execute_result"
    }
   ],
   "source": [
    "square_preference_factor = (sc[\"stats\"] % 2 == 0).sum() / (sc[\"stats\"] % 2 == 1).sum()\n",
    "square_preference_factor"
   ]
  },
  {
   "cell_type": "markdown",
   "metadata": {},
   "source": [
    "There are about 2.5 times more creatures with even stats than odd stats!"
   ]
  },
  {
   "cell_type": "markdown",
   "metadata": {},
   "source": [
    "### Preparing for the \"expected_stats\" column\n",
    "Expected stats for a creature of this exact mana cost (calculated from the average in core sets).\n",
    "To have a good model, for each creature, I will define it's cost at being the expected stats value it should have, based on the average stats value of a creature having this exact mana-cost in the sc dataframe (exploitable core set creatures).\n",
    "For this process to work well, we need several cases for each mana-cost."
   ]
  },
  {
   "cell_type": "code",
   "execution_count": 114,
   "metadata": {},
   "outputs": [
    {
     "data": {
      "text/plain": [
       "{5}{G}{G}{G}       2\n",
       "{3}{U}{U}{U}       2\n",
       "{1}{R}{W}          1\n",
       "{4}{W}{U}{B}       1\n",
       "{6}{U}{U}          1\n",
       "{3}{B}{B}{B}{B}    1\n",
       "{1}{W}{W}{W}       1\n",
       "{1}{G}{U}{R}       1\n",
       "{3}{G}{G}{G}{G}    1\n",
       "{U}{R}             1\n",
       "{1}{W}{U}          1\n",
       "{W}{B}             1\n",
       "{1}{W}{B}          1\n",
       "{R}{W}             1\n",
       "{3}{U}{B}          1\n",
       "{3}{R}{G}{W}       1\n",
       "{6}{B}{B}{B}       1\n",
       "{1}{R}{G}          1\n",
       "{3}{B}{R}{G}       1\n",
       "{4}{U}{B}          1\n",
       "{5}{B}{B}{B}       1\n",
       "{1}{U}{R}{W}       1\n",
       "{R}{G}             1\n",
       "{6}{U}             1\n",
       "{2}{B}{G}          1\n",
       "{2}{B}{G}{U}       1\n",
       "{W}{U}{B}{R}{G}    1\n",
       "{W}{B}{G}          1\n",
       "{R}{W}{B}          1\n",
       "{2}{U}{R}          1\n",
       "{1}{U}{B}          1\n",
       "{3}{G}{G}{G}       1\n",
       "{2}{G}{U}          1\n",
       "{11}               1\n",
       "{1}{B}{G}          1\n",
       "{2}{U}{U}{U}       1\n",
       "{1}{G}{W}{U}       1\n",
       "{3}{W}{B}          1\n",
       "{5}{B}{B}          1\n",
       "{G}{G}{G}{G}{G}    1\n",
       "Name: mana_cost, dtype: int64"
      ]
     },
     "execution_count": 114,
     "metadata": {},
     "output_type": "execute_result"
    }
   ],
   "source": [
    "sc[\"mana_cost\"].value_counts().tail(40)"
   ]
  },
  {
   "cell_type": "markdown",
   "metadata": {},
   "source": [
    "We note that some mana costs are present on exactly one card. These cards are unexploitable, as we need at least two occurences per mana cost to observe an evolution. We will drop them."
   ]
  },
  {
   "cell_type": "code",
   "execution_count": 132,
   "metadata": {},
   "outputs": [
    {
     "data": {
      "text/plain": [
       "(2641, 13)"
      ]
     },
     "execution_count": 132,
     "metadata": {},
     "output_type": "execute_result"
    }
   ],
   "source": [
    "def drop_singleton_mana_costs(df):\n",
    "    #finds them\n",
    "    singleton_mana_costs = []\n",
    "    for mana_cost in df[\"mana_cost\"].unique():\n",
    "        occurrences = sc[\"mana_cost\"].value_counts()[mana_cost] \n",
    "        if occurrences == 1:\n",
    "            singleton_mana_costs.append(mana_cost)       \n",
    "    #drops them\n",
    "    for s_cost in singleton_mana_costs:\n",
    "        lines_to_drop = df[df[\"mana_cost\"] == s_cost]\n",
    "        df.drop(lines_to_drop.index, inplace = True)\n",
    "    \n",
    "drop_singleton_mana_costs(sc)\n",
    "sc.shape"
   ]
  },
  {
   "cell_type": "markdown",
   "metadata": {},
   "source": [
    "We indeed dropped 38 rows."
   ]
  },
  {
   "cell_type": "markdown",
   "metadata": {},
   "source": [
    "### Adding the \"expected_stats\" column"
   ]
  },
  {
   "cell_type": "code",
   "execution_count": 141,
   "metadata": {},
   "outputs": [
    {
     "data": {
      "text/plain": [
       "{'{5}': 7.142857142857143,\n",
       " '{2}': 2.909090909090909,\n",
       " '{3}': 4.464285714285714,\n",
       " '{4}': 5.96969696969697,\n",
       " '{7}': 10.0,\n",
       " '{1}{G}{U}': 4.0,\n",
       " '{2}{B}{R}': 6.666666666666667,\n",
       " '{1}{G}': 3.2658227848101267,\n",
       " '{4}{G}{G}': 10.333333333333334,\n",
       " '{1}{G}{G}': 3.85,\n",
       " '{3}{G}': 5.583333333333333,\n",
       " '{3}{G}{G}': 6.782608695652174,\n",
       " '{2}{G}{G}': 7.111111111111111,\n",
       " '{G}': 2.0,\n",
       " '{2}{G}': 3.8620689655172415,\n",
       " '{4}{G}': 8.0,\n",
       " '{5}{G}{G}': 13.384615384615385,\n",
       " '{2}{G}{G}{G}': 13.5,\n",
       " '{G}{G}': 3.875,\n",
       " '{1}{R}': 3.25,\n",
       " '{R}': 2.305084745762712,\n",
       " '{3}{R}': 5.34375,\n",
       " '{4}{R}{R}': 9.724137931034482,\n",
       " '{4}{R}': 6.363636363636363,\n",
       " '{2}{R}{R}': 6.184210526315789,\n",
       " '{2}{R}': 3.5161290322580645,\n",
       " '{1}{R}{R}': 4.8125,\n",
       " '{3}{R}{R}': 8.307692307692308,\n",
       " '{R}{R}': 4.0,\n",
       " '{4}{R}{R}{R}': 12.666666666666666,\n",
       " '{5}{R}{R}': 9.6,\n",
       " '{2}{R}{R}{R}': 9.5,\n",
       " '{B}{B}': 3.260869565217391,\n",
       " '{4}{B}': 6.72,\n",
       " '{B}': 2.0444444444444443,\n",
       " '{3}{B}': 4.835820895522388,\n",
       " '{1}{B}': 2.703125,\n",
       " '{2}{B}': 3.6777777777777776,\n",
       " '{3}{B}{B}': 7.344827586206897,\n",
       " '{5}{B}': 9.5,\n",
       " '{2}{B}{B}{B}': 9.0,\n",
       " '{1}{B}{B}': 3.675675675675676,\n",
       " '{3}{U}': 5.133333333333334,\n",
       " '{2}{U}': 4.0394736842105265,\n",
       " '{U}': 2.1785714285714284,\n",
       " '{5}{U}{U}': 9.222222222222221,\n",
       " '{1}{U}': 2.9,\n",
       " '{4}{U}{U}': 10.821428571428571,\n",
       " '{2}{U}{U}': 4.8076923076923075,\n",
       " '{4}{U}': 6.366666666666666,\n",
       " '{3}{U}{U}{U}': 8.0,\n",
       " '{3}{U}{U}': 7.571428571428571,\n",
       " '{W}': 2.328125,\n",
       " '{2}{W}': 3.9577464788732395,\n",
       " '{1}{W}': 2.9101123595505616,\n",
       " '{4}{W}': 6.0,\n",
       " '{4}{W}{W}{W}': 12.666666666666666,\n",
       " '{3}{W}': 5.757575757575758,\n",
       " '{5}{W}': 7.428571428571429,\n",
       " '{4}{W}{W}': 8.727272727272727,\n",
       " '{2}{W}{W}{W}': 8.25,\n",
       " '{W}{W}': 4.037037037037037,\n",
       " '{1}{G}{W}': 4.5,\n",
       " '{2}{W}{U}': 5.5,\n",
       " '{4}{G}{G}{G}': 10.666666666666666,\n",
       " '{B}{B}{B}': 10.0,\n",
       " '{2}{B}{B}': 4.612903225806452,\n",
       " '{4}{B}{B}': 9.214285714285714,\n",
       " '{U}{U}': 4.0625,\n",
       " '{5}{U}': 10.454545454545455,\n",
       " '{1}{W}{W}': 3.8,\n",
       " '{2}{W}{W}': 5.551724137931035,\n",
       " '{3}{W}{W}': 7.55,\n",
       " '{6}': 7.172413793103448,\n",
       " '{1}': 3.4,\n",
       " '{5}{G}': 10.285714285714286,\n",
       " '{5}{R}': 8.5,\n",
       " '{1}{B}{B}{B}': 6.5,\n",
       " '{0}': 2.0,\n",
       " '{1}{U}{U}': 4.479166666666667,\n",
       " '{5}{U}{U}{U}': 14.166666666666666,\n",
       " '{5}{W}{W}': 9.0,\n",
       " '{6}{W}': 8.0,\n",
       " '{6}{G}': 12.5,\n",
       " '{6}{R}': 12.0,\n",
       " '{1}{R}{R}{R}': 7.0,\n",
       " '{6}{R}{R}': 11.333333333333334,\n",
       " '{R}{R}{R}': 7.8,\n",
       " '{3}{B}{B}{B}': 11.0,\n",
       " '{9}': 18.0,\n",
       " '{5}{G}{G}{G}': 14.0,\n",
       " '{6}{G}{G}': 16.0,\n",
       " '{4}{B}{B}{B}': 14.0,\n",
       " '{6}{W}{W}{W}': 10.0,\n",
       " '{7}{G}': 13.0,\n",
       " '{2}{G}{G}{G}{G}': 16.0,\n",
       " '{6}{W}{W}': 12.5,\n",
       " '{6}{R}{R}{R}': 12.0,\n",
       " '{5}{U}{U}{U}{U}': 20.0,\n",
       " '{3}{W}{W}{W}': 12.0,\n",
       " '{4}{U}{U}{U}': 14.0}"
      ]
     },
     "execution_count": 141,
     "metadata": {},
     "output_type": "execute_result"
    }
   ],
   "source": [
    "def compute_expected_stats_for_cost(mana_cost, df):\n",
    "    cards_having_this_cost = df[df[\"mana_cost\"] == mana_cost]\n",
    "    return cards_having_this_cost[\"stats\"].mean()\n",
    "\n",
    "def get_expected_stats_dictio(df):\n",
    "    mana_costs = df[\"mana_cost\"].unique()\n",
    "    expected_stats_per_cost = {}\n",
    "    for mana_cost in mana_costs:\n",
    "        expected_stats_per_cost[mana_cost] = compute_expected_stats_for_cost(mana_cost, df)\n",
    "    return expected_stats_per_cost\n",
    "\n",
    "get_expected_stats_dictio(sc)\n",
    "\n",
    "# TODO: create column"
   ]
  }
 ],
 "metadata": {
  "kernelspec": {
   "display_name": "Python 3",
   "language": "python",
   "name": "python3"
  },
  "language_info": {
   "codemirror_mode": {
    "name": "ipython",
    "version": 3
   },
   "file_extension": ".py",
   "mimetype": "text/x-python",
   "name": "python",
   "nbconvert_exporter": "python",
   "pygments_lexer": "ipython3",
   "version": "3.7.4"
  }
 },
 "nbformat": 4,
 "nbformat_minor": 2
}
